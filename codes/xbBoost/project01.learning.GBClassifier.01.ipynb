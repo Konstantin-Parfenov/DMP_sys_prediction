{
 "cells": [
  {
   "cell_type": "code",
   "execution_count": 1,
   "metadata": {},
   "outputs": [
    {
     "name": "stderr",
     "output_type": "stream",
     "text": [
      "/opt/anaconda/envs/bd9/lib/python3.6/site-packages/sklearn/externals/joblib/__init__.py:15: FutureWarning: sklearn.externals.joblib is deprecated in 0.21 and will be removed in 0.23. Please import this functionality directly from joblib, which can be installed with: pip install joblib. If this warning is raised when loading pickled models, you may need to re-serialize those models with scikit-learn 0.21+.\n",
      "  warnings.warn(msg, category=FutureWarning)\n",
      "/opt/anaconda/envs/bd9/lib/python3.6/site-packages/sklearn/externals/six.py:31: FutureWarning: The module is deprecated in version 0.21 and will be removed in version 0.23 since we've dropped support for Python 2.7. Please rely on the official version of six (https://pypi.org/project/six/).\n",
      "  \"(https://pypi.org/project/six/).\", FutureWarning)\n",
      "/opt/anaconda/envs/bd9/lib/python3.6/site-packages/sklearn/utils/deprecation.py:144: FutureWarning: The sklearn.metrics.scorer module is  deprecated in version 0.22 and will be removed in version 0.24. The corresponding classes / functions should instead be imported from sklearn.metrics. Anything that cannot be imported from sklearn.metrics is now part of the private API.\n",
      "  warnings.warn(message, FutureWarning)\n"
     ]
    }
   ],
   "source": [
    "import numpy as np\n",
    "import pandas as pd\n",
    "import os, sys\n",
    "\n",
    "import json\n",
    "\n",
    "import urllib.parse\n",
    "from urllib.parse import unquote\n",
    "from urllib.parse import urlparse\n",
    "\n",
    "\n",
    "from sklearn.linear_model import LogisticRegression\n",
    "from sklearn.naive_bayes import GaussianNB\n",
    "from sklearn.ensemble import RandomForestClassifier, VotingClassifier\n",
    "from xgboost.sklearn import XGBClassifier\n",
    "from sklearn.ensemble import GradientBoostingClassifier\n",
    "from sklearn.linear_model import SGDClassifier\n",
    "from sklearn.cross_validation import *\n",
    "\n",
    "from sklearn.grid_search import GridSearchCV"
   ]
  },
  {
   "cell_type": "code",
   "execution_count": 2,
   "metadata": {},
   "outputs": [],
   "source": [
    "import warnings\n",
    "warnings.filterwarnings('ignore')"
   ]
  },
  {
   "cell_type": "code",
   "execution_count": 3,
   "metadata": {},
   "outputs": [],
   "source": [
    "from IPython.display import Audio\n",
    "sound_file = \"/data/home/mikhail.burmistrov/A-Tone-His_Self-1266414414.wav\""
   ]
  },
  {
   "cell_type": "markdown",
   "metadata": {},
   "source": [
    "# Version V"
   ]
  },
  {
   "cell_type": "markdown",
   "metadata": {},
   "source": [
    "##  XGBoost only"
   ]
  },
  {
   "cell_type": "markdown",
   "metadata": {},
   "source": [
    "### Загружаем данные"
   ]
  },
  {
   "cell_type": "code",
   "execution_count": 4,
   "metadata": {},
   "outputs": [],
   "source": [
    "#Параметры вычислений\n",
    "file_path = '~/Labs/prj/fetch.csv'\n",
    "file_limit = None"
   ]
  },
  {
   "cell_type": "code",
   "execution_count": 5,
   "metadata": {},
   "outputs": [],
   "source": [
    "# Загружаем файл\n",
    "theFetch = pd.read_csv(file_path, sep=',', nrows=file_limit  )"
   ]
  },
  {
   "cell_type": "code",
   "execution_count": 6,
   "metadata": {},
   "outputs": [],
   "source": [
    "#формируем мега признак\n",
    "theFetch['target'] = theFetch.gender+theFetch.age\n",
    "theFetch.drop(['gender', 'age'], axis=1, inplace=True )\n",
    "theFetch.set_index(['uid'], inplace=True)"
   ]
  },
  {
   "cell_type": "code",
   "execution_count": 7,
   "metadata": {},
   "outputs": [],
   "source": [
    "#Создаем карту групп признаков: где чего лежит\n",
    "theTargetName = sorted(theFetch.target.unique())\n",
    "theTargetMap = pd.DataFrame( {'code':range(0, len(theTargetName)) }, index = theTargetName )"
   ]
  },
  {
   "cell_type": "code",
   "execution_count": 8,
   "metadata": {},
   "outputs": [],
   "source": [
    "#Генерируем номера групп согластно карте признаков\n",
    "theFetch['targetID'] = theFetch['target'].apply( lambda x:  theTargetMap.code.loc[x] )\n",
    "theFetch.drop(['target'], axis=1, inplace=True )\n",
    "theFetch.sort_values(by=['targetID'], inplace=True)\n",
    "theFetch.fillna(0, inplace=True)\n",
    "theFetch.columns = ['P' + str(i) for i in range(1, len(theFetch.columns))] + ['targetID']"
   ]
  },
  {
   "cell_type": "code",
   "execution_count": 9,
   "metadata": {
    "scrolled": true
   },
   "outputs": [],
   "source": [
    "#Рассчитываем положения их смещения в общем массиве\n",
    "theTargetMap['len'] = theTargetMap['code'].apply( lambda type:  len(theFetch[theFetch.targetID == type]) )\n",
    "theTargetMap['begin'] = [theTargetMap[theTargetMap.code < type ]['len'].sum() \\\n",
    "                        if type > 0 else 0 \\\n",
    "                        for type in range(0, 11) ]\n",
    "theTargetMap['end'] = [theTargetMap[theTargetMap.code <= type ]['len'].sum() \\\n",
    "                        if type > 0 else int(theTargetMap[theTargetMap.code == type ]['len']) \\\n",
    "                        for type in range(0, 11) ]"
   ]
  },
  {
   "cell_type": "code",
   "execution_count": 10,
   "metadata": {},
   "outputs": [],
   "source": [
    "theFetch.reset_index( inplace=True)\n",
    "theFetch.set_index(['uid', 'targetID'], inplace=True)\n",
    "\n",
    "for column in theFetch.columns:\n",
    "    mean = theFetch[column].mean();\n",
    "    std = theFetch[column].std();\n",
    "    theFetch[column] = (theFetch[column]-mean)/std"
   ]
  },
  {
   "cell_type": "code",
   "execution_count": 11,
   "metadata": {},
   "outputs": [],
   "source": [
    "#Эта тупая тварь не сохраняет в файл индексы. Ставим заплатку\n",
    "theFetch.reset_index(inplace=True)\n",
    "theFetch.to_csv('~/project/xgb_fetch.csv', sep=',', index=False)\n",
    "theFetch.to_csv('~/project/xgb_fetch_map.csv', sep=',', index=False)\n",
    "theFetch.set_index(['uid', 'targetID'], inplace=True)"
   ]
  },
  {
   "cell_type": "markdown",
   "metadata": {},
   "source": [
    "### Любуемся результатом"
   ]
  },
  {
   "cell_type": "code",
   "execution_count": 12,
   "metadata": {},
   "outputs": [
    {
     "data": {
      "text/html": [
       "<div>\n",
       "<style scoped>\n",
       "    .dataframe tbody tr th:only-of-type {\n",
       "        vertical-align: middle;\n",
       "    }\n",
       "\n",
       "    .dataframe tbody tr th {\n",
       "        vertical-align: top;\n",
       "    }\n",
       "\n",
       "    .dataframe thead th {\n",
       "        text-align: right;\n",
       "    }\n",
       "</style>\n",
       "<table border=\"1\" class=\"dataframe\">\n",
       "  <thead>\n",
       "    <tr style=\"text-align: right;\">\n",
       "      <th></th>\n",
       "      <th>code</th>\n",
       "      <th>len</th>\n",
       "      <th>begin</th>\n",
       "      <th>end</th>\n",
       "    </tr>\n",
       "  </thead>\n",
       "  <tbody>\n",
       "    <tr>\n",
       "      <th>--</th>\n",
       "      <td>0</td>\n",
       "      <td>5000</td>\n",
       "      <td>0</td>\n",
       "      <td>5000</td>\n",
       "    </tr>\n",
       "    <tr>\n",
       "      <th>F18-24</th>\n",
       "      <td>1</td>\n",
       "      <td>2886</td>\n",
       "      <td>5000</td>\n",
       "      <td>7886</td>\n",
       "    </tr>\n",
       "    <tr>\n",
       "      <th>F25-34</th>\n",
       "      <td>2</td>\n",
       "      <td>6791</td>\n",
       "      <td>7886</td>\n",
       "      <td>14677</td>\n",
       "    </tr>\n",
       "    <tr>\n",
       "      <th>F35-44</th>\n",
       "      <td>3</td>\n",
       "      <td>4271</td>\n",
       "      <td>14677</td>\n",
       "      <td>18948</td>\n",
       "    </tr>\n",
       "    <tr>\n",
       "      <th>F45-54</th>\n",
       "      <td>4</td>\n",
       "      <td>2597</td>\n",
       "      <td>18948</td>\n",
       "      <td>21545</td>\n",
       "    </tr>\n",
       "    <tr>\n",
       "      <th>F&gt;=55</th>\n",
       "      <td>5</td>\n",
       "      <td>895</td>\n",
       "      <td>21545</td>\n",
       "      <td>22440</td>\n",
       "    </tr>\n",
       "    <tr>\n",
       "      <th>M18-24</th>\n",
       "      <td>6</td>\n",
       "      <td>2012</td>\n",
       "      <td>22440</td>\n",
       "      <td>24452</td>\n",
       "    </tr>\n",
       "    <tr>\n",
       "      <th>M25-34</th>\n",
       "      <td>7</td>\n",
       "      <td>8666</td>\n",
       "      <td>24452</td>\n",
       "      <td>33118</td>\n",
       "    </tr>\n",
       "    <tr>\n",
       "      <th>M35-44</th>\n",
       "      <td>8</td>\n",
       "      <td>5089</td>\n",
       "      <td>33118</td>\n",
       "      <td>38207</td>\n",
       "    </tr>\n",
       "    <tr>\n",
       "      <th>M45-54</th>\n",
       "      <td>9</td>\n",
       "      <td>2147</td>\n",
       "      <td>38207</td>\n",
       "      <td>40354</td>\n",
       "    </tr>\n",
       "    <tr>\n",
       "      <th>M&gt;=55</th>\n",
       "      <td>10</td>\n",
       "      <td>784</td>\n",
       "      <td>40354</td>\n",
       "      <td>41138</td>\n",
       "    </tr>\n",
       "  </tbody>\n",
       "</table>\n",
       "</div>"
      ],
      "text/plain": [
       "        code   len  begin    end\n",
       "--         0  5000      0   5000\n",
       "F18-24     1  2886   5000   7886\n",
       "F25-34     2  6791   7886  14677\n",
       "F35-44     3  4271  14677  18948\n",
       "F45-54     4  2597  18948  21545\n",
       "F>=55      5   895  21545  22440\n",
       "M18-24     6  2012  22440  24452\n",
       "M25-34     7  8666  24452  33118\n",
       "M35-44     8  5089  33118  38207\n",
       "M45-54     9  2147  38207  40354\n",
       "M>=55     10   784  40354  41138"
      ]
     },
     "execution_count": 12,
     "metadata": {},
     "output_type": "execute_result"
    }
   ],
   "source": [
    "theTargetMap"
   ]
  },
  {
   "cell_type": "code",
   "execution_count": 13,
   "metadata": {},
   "outputs": [
    {
     "data": {
      "text/html": [
       "<div>\n",
       "<style scoped>\n",
       "    .dataframe tbody tr th:only-of-type {\n",
       "        vertical-align: middle;\n",
       "    }\n",
       "\n",
       "    .dataframe tbody tr th {\n",
       "        vertical-align: top;\n",
       "    }\n",
       "\n",
       "    .dataframe thead th {\n",
       "        text-align: right;\n",
       "    }\n",
       "</style>\n",
       "<table border=\"1\" class=\"dataframe\">\n",
       "  <thead>\n",
       "    <tr style=\"text-align: right;\">\n",
       "      <th></th>\n",
       "      <th>P1</th>\n",
       "      <th>P2</th>\n",
       "      <th>P3</th>\n",
       "      <th>P4</th>\n",
       "      <th>P5</th>\n",
       "      <th>P6</th>\n",
       "      <th>P7</th>\n",
       "      <th>P8</th>\n",
       "      <th>P9</th>\n",
       "      <th>P10</th>\n",
       "      <th>...</th>\n",
       "      <th>P76</th>\n",
       "      <th>P77</th>\n",
       "      <th>P78</th>\n",
       "      <th>P79</th>\n",
       "      <th>P80</th>\n",
       "      <th>P81</th>\n",
       "      <th>P82</th>\n",
       "      <th>P83</th>\n",
       "      <th>P84</th>\n",
       "      <th>P85</th>\n",
       "    </tr>\n",
       "  </thead>\n",
       "  <tbody>\n",
       "    <tr>\n",
       "      <th>count</th>\n",
       "      <td>4.113800e+04</td>\n",
       "      <td>4.113800e+04</td>\n",
       "      <td>4.113800e+04</td>\n",
       "      <td>4.113800e+04</td>\n",
       "      <td>4.113800e+04</td>\n",
       "      <td>4.113800e+04</td>\n",
       "      <td>4.113800e+04</td>\n",
       "      <td>4.113800e+04</td>\n",
       "      <td>4.113800e+04</td>\n",
       "      <td>4.113800e+04</td>\n",
       "      <td>...</td>\n",
       "      <td>4.113800e+04</td>\n",
       "      <td>4.113800e+04</td>\n",
       "      <td>4.113800e+04</td>\n",
       "      <td>4.113800e+04</td>\n",
       "      <td>4.113800e+04</td>\n",
       "      <td>4.113800e+04</td>\n",
       "      <td>4.113800e+04</td>\n",
       "      <td>4.113800e+04</td>\n",
       "      <td>4.113800e+04</td>\n",
       "      <td>4.113800e+04</td>\n",
       "    </tr>\n",
       "    <tr>\n",
       "      <th>mean</th>\n",
       "      <td>8.158214e-15</td>\n",
       "      <td>4.088951e-17</td>\n",
       "      <td>-4.123065e-15</td>\n",
       "      <td>-3.864502e-15</td>\n",
       "      <td>-8.411444e-15</td>\n",
       "      <td>6.979859e-16</td>\n",
       "      <td>2.396811e-15</td>\n",
       "      <td>-7.712418e-16</td>\n",
       "      <td>5.278886e-15</td>\n",
       "      <td>-8.761442e-16</td>\n",
       "      <td>...</td>\n",
       "      <td>1.617893e-15</td>\n",
       "      <td>2.203340e-15</td>\n",
       "      <td>-8.951069e-17</td>\n",
       "      <td>2.848808e-15</td>\n",
       "      <td>-6.524835e-15</td>\n",
       "      <td>3.755825e-15</td>\n",
       "      <td>-1.301012e-14</td>\n",
       "      <td>-2.018962e-15</td>\n",
       "      <td>-7.651581e-16</td>\n",
       "      <td>-4.950041e-15</td>\n",
       "    </tr>\n",
       "    <tr>\n",
       "      <th>std</th>\n",
       "      <td>1.000000e+00</td>\n",
       "      <td>1.000000e+00</td>\n",
       "      <td>1.000000e+00</td>\n",
       "      <td>1.000000e+00</td>\n",
       "      <td>1.000000e+00</td>\n",
       "      <td>1.000000e+00</td>\n",
       "      <td>1.000000e+00</td>\n",
       "      <td>1.000000e+00</td>\n",
       "      <td>1.000000e+00</td>\n",
       "      <td>1.000000e+00</td>\n",
       "      <td>...</td>\n",
       "      <td>1.000000e+00</td>\n",
       "      <td>1.000000e+00</td>\n",
       "      <td>1.000000e+00</td>\n",
       "      <td>1.000000e+00</td>\n",
       "      <td>1.000000e+00</td>\n",
       "      <td>1.000000e+00</td>\n",
       "      <td>1.000000e+00</td>\n",
       "      <td>1.000000e+00</td>\n",
       "      <td>1.000000e+00</td>\n",
       "      <td>1.000000e+00</td>\n",
       "    </tr>\n",
       "    <tr>\n",
       "      <th>min</th>\n",
       "      <td>-3.854878e-02</td>\n",
       "      <td>-1.393146e-02</td>\n",
       "      <td>-2.262425e-02</td>\n",
       "      <td>-2.273501e-02</td>\n",
       "      <td>-2.569470e-02</td>\n",
       "      <td>-5.708429e-03</td>\n",
       "      <td>-6.966028e-02</td>\n",
       "      <td>-1.029442e-02</td>\n",
       "      <td>-2.051984e-02</td>\n",
       "      <td>-6.120557e-02</td>\n",
       "      <td>...</td>\n",
       "      <td>-6.908749e-02</td>\n",
       "      <td>-8.539837e-03</td>\n",
       "      <td>-4.866369e-02</td>\n",
       "      <td>-5.082998e-02</td>\n",
       "      <td>-4.405108e-02</td>\n",
       "      <td>-8.256803e-03</td>\n",
       "      <td>-4.755806e-02</td>\n",
       "      <td>-2.619758e-02</td>\n",
       "      <td>-1.246266e-02</td>\n",
       "      <td>-8.051403e-03</td>\n",
       "    </tr>\n",
       "    <tr>\n",
       "      <th>25%</th>\n",
       "      <td>-3.854878e-02</td>\n",
       "      <td>-1.393146e-02</td>\n",
       "      <td>-2.262425e-02</td>\n",
       "      <td>-2.273501e-02</td>\n",
       "      <td>-2.569470e-02</td>\n",
       "      <td>-5.708429e-03</td>\n",
       "      <td>-6.966028e-02</td>\n",
       "      <td>-1.029442e-02</td>\n",
       "      <td>-2.051984e-02</td>\n",
       "      <td>-6.120557e-02</td>\n",
       "      <td>...</td>\n",
       "      <td>-6.908749e-02</td>\n",
       "      <td>-8.539837e-03</td>\n",
       "      <td>-4.866369e-02</td>\n",
       "      <td>-5.082998e-02</td>\n",
       "      <td>-4.405108e-02</td>\n",
       "      <td>-8.256803e-03</td>\n",
       "      <td>-4.755806e-02</td>\n",
       "      <td>-2.619758e-02</td>\n",
       "      <td>-1.246266e-02</td>\n",
       "      <td>-8.051403e-03</td>\n",
       "    </tr>\n",
       "    <tr>\n",
       "      <th>50%</th>\n",
       "      <td>-3.854878e-02</td>\n",
       "      <td>-1.393146e-02</td>\n",
       "      <td>-2.262425e-02</td>\n",
       "      <td>-2.273501e-02</td>\n",
       "      <td>-2.569470e-02</td>\n",
       "      <td>-5.708429e-03</td>\n",
       "      <td>-6.966028e-02</td>\n",
       "      <td>-1.029442e-02</td>\n",
       "      <td>-2.051984e-02</td>\n",
       "      <td>-6.120557e-02</td>\n",
       "      <td>...</td>\n",
       "      <td>-6.908749e-02</td>\n",
       "      <td>-8.539837e-03</td>\n",
       "      <td>-4.866369e-02</td>\n",
       "      <td>-5.082998e-02</td>\n",
       "      <td>-4.405108e-02</td>\n",
       "      <td>-8.256803e-03</td>\n",
       "      <td>-4.755806e-02</td>\n",
       "      <td>-2.619758e-02</td>\n",
       "      <td>-1.246266e-02</td>\n",
       "      <td>-8.051403e-03</td>\n",
       "    </tr>\n",
       "    <tr>\n",
       "      <th>75%</th>\n",
       "      <td>-3.854878e-02</td>\n",
       "      <td>-1.393146e-02</td>\n",
       "      <td>-2.262425e-02</td>\n",
       "      <td>-2.273501e-02</td>\n",
       "      <td>-2.569470e-02</td>\n",
       "      <td>-5.708429e-03</td>\n",
       "      <td>-6.966028e-02</td>\n",
       "      <td>-1.029442e-02</td>\n",
       "      <td>-2.051984e-02</td>\n",
       "      <td>-6.120557e-02</td>\n",
       "      <td>...</td>\n",
       "      <td>-6.908749e-02</td>\n",
       "      <td>-8.539837e-03</td>\n",
       "      <td>-4.866369e-02</td>\n",
       "      <td>-5.082998e-02</td>\n",
       "      <td>-4.405108e-02</td>\n",
       "      <td>-8.256803e-03</td>\n",
       "      <td>-4.755806e-02</td>\n",
       "      <td>-2.619758e-02</td>\n",
       "      <td>-1.246266e-02</td>\n",
       "      <td>-8.051403e-03</td>\n",
       "    </tr>\n",
       "    <tr>\n",
       "      <th>max</th>\n",
       "      <td>7.215634e+01</td>\n",
       "      <td>1.841297e+02</td>\n",
       "      <td>1.442205e+02</td>\n",
       "      <td>1.306503e+02</td>\n",
       "      <td>1.086789e+02</td>\n",
       "      <td>2.019283e+02</td>\n",
       "      <td>6.222783e+01</td>\n",
       "      <td>1.558118e+02</td>\n",
       "      <td>1.115405e+02</td>\n",
       "      <td>6.676245e+01</td>\n",
       "      <td>...</td>\n",
       "      <td>7.712934e+01</td>\n",
       "      <td>1.561301e+02</td>\n",
       "      <td>1.704394e+02</td>\n",
       "      <td>7.138234e+01</td>\n",
       "      <td>1.229949e+02</td>\n",
       "      <td>1.576949e+02</td>\n",
       "      <td>1.175812e+02</td>\n",
       "      <td>1.962614e+02</td>\n",
       "      <td>1.767769e+02</td>\n",
       "      <td>1.656013e+02</td>\n",
       "    </tr>\n",
       "  </tbody>\n",
       "</table>\n",
       "<p>8 rows × 85 columns</p>\n",
       "</div>"
      ],
      "text/plain": [
       "                 P1            P2            P3            P4            P5  \\\n",
       "count  4.113800e+04  4.113800e+04  4.113800e+04  4.113800e+04  4.113800e+04   \n",
       "mean   8.158214e-15  4.088951e-17 -4.123065e-15 -3.864502e-15 -8.411444e-15   \n",
       "std    1.000000e+00  1.000000e+00  1.000000e+00  1.000000e+00  1.000000e+00   \n",
       "min   -3.854878e-02 -1.393146e-02 -2.262425e-02 -2.273501e-02 -2.569470e-02   \n",
       "25%   -3.854878e-02 -1.393146e-02 -2.262425e-02 -2.273501e-02 -2.569470e-02   \n",
       "50%   -3.854878e-02 -1.393146e-02 -2.262425e-02 -2.273501e-02 -2.569470e-02   \n",
       "75%   -3.854878e-02 -1.393146e-02 -2.262425e-02 -2.273501e-02 -2.569470e-02   \n",
       "max    7.215634e+01  1.841297e+02  1.442205e+02  1.306503e+02  1.086789e+02   \n",
       "\n",
       "                 P6            P7            P8            P9           P10  \\\n",
       "count  4.113800e+04  4.113800e+04  4.113800e+04  4.113800e+04  4.113800e+04   \n",
       "mean   6.979859e-16  2.396811e-15 -7.712418e-16  5.278886e-15 -8.761442e-16   \n",
       "std    1.000000e+00  1.000000e+00  1.000000e+00  1.000000e+00  1.000000e+00   \n",
       "min   -5.708429e-03 -6.966028e-02 -1.029442e-02 -2.051984e-02 -6.120557e-02   \n",
       "25%   -5.708429e-03 -6.966028e-02 -1.029442e-02 -2.051984e-02 -6.120557e-02   \n",
       "50%   -5.708429e-03 -6.966028e-02 -1.029442e-02 -2.051984e-02 -6.120557e-02   \n",
       "75%   -5.708429e-03 -6.966028e-02 -1.029442e-02 -2.051984e-02 -6.120557e-02   \n",
       "max    2.019283e+02  6.222783e+01  1.558118e+02  1.115405e+02  6.676245e+01   \n",
       "\n",
       "           ...                P76           P77           P78           P79  \\\n",
       "count      ...       4.113800e+04  4.113800e+04  4.113800e+04  4.113800e+04   \n",
       "mean       ...       1.617893e-15  2.203340e-15 -8.951069e-17  2.848808e-15   \n",
       "std        ...       1.000000e+00  1.000000e+00  1.000000e+00  1.000000e+00   \n",
       "min        ...      -6.908749e-02 -8.539837e-03 -4.866369e-02 -5.082998e-02   \n",
       "25%        ...      -6.908749e-02 -8.539837e-03 -4.866369e-02 -5.082998e-02   \n",
       "50%        ...      -6.908749e-02 -8.539837e-03 -4.866369e-02 -5.082998e-02   \n",
       "75%        ...      -6.908749e-02 -8.539837e-03 -4.866369e-02 -5.082998e-02   \n",
       "max        ...       7.712934e+01  1.561301e+02  1.704394e+02  7.138234e+01   \n",
       "\n",
       "                P80           P81           P82           P83           P84  \\\n",
       "count  4.113800e+04  4.113800e+04  4.113800e+04  4.113800e+04  4.113800e+04   \n",
       "mean  -6.524835e-15  3.755825e-15 -1.301012e-14 -2.018962e-15 -7.651581e-16   \n",
       "std    1.000000e+00  1.000000e+00  1.000000e+00  1.000000e+00  1.000000e+00   \n",
       "min   -4.405108e-02 -8.256803e-03 -4.755806e-02 -2.619758e-02 -1.246266e-02   \n",
       "25%   -4.405108e-02 -8.256803e-03 -4.755806e-02 -2.619758e-02 -1.246266e-02   \n",
       "50%   -4.405108e-02 -8.256803e-03 -4.755806e-02 -2.619758e-02 -1.246266e-02   \n",
       "75%   -4.405108e-02 -8.256803e-03 -4.755806e-02 -2.619758e-02 -1.246266e-02   \n",
       "max    1.229949e+02  1.576949e+02  1.175812e+02  1.962614e+02  1.767769e+02   \n",
       "\n",
       "                P85  \n",
       "count  4.113800e+04  \n",
       "mean  -4.950041e-15  \n",
       "std    1.000000e+00  \n",
       "min   -8.051403e-03  \n",
       "25%   -8.051403e-03  \n",
       "50%   -8.051403e-03  \n",
       "75%   -8.051403e-03  \n",
       "max    1.656013e+02  \n",
       "\n",
       "[8 rows x 85 columns]"
      ]
     },
     "execution_count": 13,
     "metadata": {},
     "output_type": "execute_result"
    }
   ],
   "source": [
    "theFetch.describe()"
   ]
  },
  {
   "cell_type": "markdown",
   "metadata": {},
   "source": [
    "### Выделяем диапазон для исследований"
   ]
  },
  {
   "cell_type": "code",
   "execution_count": 14,
   "metadata": {},
   "outputs": [
    {
     "data": {
      "text/plain": [
       "((36138, 85), (36138,))"
      ]
     },
     "execution_count": 14,
     "metadata": {},
     "output_type": "execute_result"
    }
   ],
   "source": [
    "predictData = (theFetch.values)[0:5000]\n",
    "fullData = (theFetch.values)[5000:41138]\n",
    "fullTarget = np.array( theFetch.index.get_level_values('targetID') )[5000:41138]\n",
    "fullData.shape, fullTarget.shape "
   ]
  },
  {
   "cell_type": "markdown",
   "metadata": {},
   "source": [
    "### Загоняем в GradientBoostingClassifier"
   ]
  },
  {
   "cell_type": "code",
   "execution_count": 15,
   "metadata": {},
   "outputs": [
    {
     "name": "stdout",
     "output_type": "stream",
     "text": [
      "CPU times: user 72 ms, sys: 4 ms, total: 76 ms\n",
      "Wall time: 74.5 ms\n"
     ]
    }
   ],
   "source": [
    "GradientBoostingClassifier%%time\n",
    "from sklearn.model_selection import train_test_split\n",
    "#Делим мастер данные на массивы\n",
    "masterData, researchmentData, masterTarget, researchmentTarget = \\\n",
    "    train_test_split(fullData, fullTarget, test_size= 0.33, random_state=33)"
   ]
  },
  {
   "cell_type": "code",
   "execution_count": 16,
   "metadata": {
    "scrolled": false
   },
   "outputs": [
    {
     "name": "stdout",
     "output_type": "stream",
     "text": [
      "CPU times: user 1min 27s, sys: 20 ms, total: 1min 27s\n",
      "Wall time: 1min 27s\n"
     ]
    }
   ],
   "source": [
    "%%time\n",
    "from sklearn.model_selection import RandomizedSearchCV\n",
    "\n",
    "\n",
    "# После перебора всех параметров, был оставлен GradientBoostingClassifier с параметрами по-умолчанию. \n",
    "# RandomizedSearchCV дает те параметры которые указаны ниже, но они дают максимально лучший результат 0,27(на LVL-2). \n",
    "# Параметры по-умолчанию дают результат 0,32 на fetch.csv, 0.31 на fetch2S, fetch3S\n",
    "# в конечном итоге возможно нужно будет прогнать все  файлы фичей, но пока что эта лучшая конфигурация. \n",
    "\n",
    "# model= GradientBoostingClassifier(subsample=0.95,n_estimators= 10,\n",
    "#  min_samples_split=0.1,\n",
    "#  min_samples_leaf= 0.2090909090909091,\n",
    "#  max_features= 'sqrt',\n",
    "#  max_depth= 8,\n",
    "#  loss= 'deviance',\n",
    "#  learning_rate= 0.2,\n",
    "#  criterion='mae')\n",
    "\n",
    "model= GradientBoostingClassifier()\n",
    "\n",
    "#model= RandomizedSearchCV(GradientBoostingClassifier(), parameters, cv=5, n_jobs=-1)\n",
    "model.fit(masterData, masterTarget)"
   ]
  },
  {
   "cell_type": "code",
   "execution_count": 17,
   "metadata": {},
   "outputs": [],
   "source": [
    "# Если воспроизвести эту ячейку, после обучения модели прозвенит звонок\n",
    "#Audio(filename=sound_file, autoplay=True)"
   ]
  },
  {
   "cell_type": "code",
   "execution_count": 18,
   "metadata": {},
   "outputs": [],
   "source": [
    "researchmentLabel = model.predict(researchmentData)\n",
    "researchmentPredict = model.predict_proba(researchmentData)"
   ]
  },
  {
   "cell_type": "code",
   "execution_count": 19,
   "metadata": {
    "scrolled": true
   },
   "outputs": [
    {
     "name": "stdout",
     "output_type": "stream",
     "text": [
      "              precision    recall  f1-score   support\n",
      "\n",
      "      F18-24       0.26      0.05      0.08       986\n",
      "      F25-34       0.27      0.21      0.24      2195\n",
      "      F35-44       0.30      0.10      0.15      1408\n",
      "      F45-54       0.13      0.01      0.02       797\n",
      "       F>=55       0.12      0.00      0.01       305\n",
      "      M18-24       0.17      0.01      0.01       663\n",
      "      M25-34       0.27      0.80      0.40      2897\n",
      "      M35-44       0.29      0.11      0.16      1699\n",
      "      M45-54       0.15      0.02      0.03       707\n",
      "       M>=55       0.05      0.00      0.01       269\n",
      "\n",
      "    accuracy                           0.27     11926\n",
      "   macro avg       0.20      0.13      0.11     11926\n",
      "weighted avg       0.24      0.27      0.19     11926\n",
      "\n"
     ]
    }
   ],
   "source": [
    "from sklearn.metrics import classification_report\n",
    "report = classification_report(researchmentTarget, researchmentLabel, target_names=list(theTargetMap.index[1:])) #['...', '...']\n",
    "print(report)"
   ]
  },
  {
   "cell_type": "code",
   "execution_count": 20,
   "metadata": {},
   "outputs": [
    {
     "name": "stdout",
     "output_type": "stream",
     "text": [
      "6301\n"
     ]
    }
   ],
   "source": [
    "good_i=[n for n,i in enumerate (researchmentPredict) if i.max()>0.238501980473300]\n",
    "print(len(good_i))"
   ]
  },
  {
   "cell_type": "code",
   "execution_count": 21,
   "metadata": {},
   "outputs": [
    {
     "name": "stdout",
     "output_type": "stream",
     "text": [
      "5964 11926\n",
      "CPU times: user 72 ms, sys: 0 ns, total: 72 ms\n",
      "Wall time: 69.8 ms\n"
     ]
    }
   ],
   "source": [
    "%%time\n",
    "\n",
    "len_predict=int(len(researchmentPredict)/2)\n",
    "full_pogreh=[i.max() for i in researchmentPredict]\n",
    "full_pogreh.sort()\n",
    "pogreh= max(full_pogreh[len_predict-1:len_predict])\n",
    "\n",
    "\n",
    "good_i=[n for n,i in enumerate (researchmentPredict) if i.max()>=pogreh]\n",
    "\n",
    "print(len(good_i),len(researchmentPredict))"
   ]
  },
  {
   "cell_type": "markdown",
   "metadata": {},
   "source": [
    "# Загоняем в GradientBoostingClassifier LVL -2"
   ]
  },
  {
   "cell_type": "code",
   "execution_count": 22,
   "metadata": {},
   "outputs": [],
   "source": [
    "researchmentData_2 = (researchmentData)[good_i]\n",
    "researchmentTarget_2=(researchmentTarget)[good_i]"
   ]
  },
  {
   "cell_type": "code",
   "execution_count": 23,
   "metadata": {},
   "outputs": [],
   "source": [
    "researchmentLabel_2 = model.predict(researchmentData_2)"
   ]
  },
  {
   "cell_type": "code",
   "execution_count": 24,
   "metadata": {},
   "outputs": [
    {
     "name": "stdout",
     "output_type": "stream",
     "text": [
      "              precision    recall  f1-score   support\n",
      "\n",
      "      F18-24       0.32      0.05      0.08       420\n",
      "      F25-34       0.28      0.32      0.30       937\n",
      "      F35-44       0.33      0.17      0.22       636\n",
      "      F45-54       0.08      0.01      0.02       352\n",
      "       F>=55       0.17      0.01      0.02       120\n",
      "      M18-24       0.19      0.01      0.03       361\n",
      "      M25-34       0.33      0.78      0.47      1662\n",
      "      M35-44       0.33      0.16      0.21       963\n",
      "      M45-54       0.12      0.02      0.03       378\n",
      "       M>=55       0.06      0.01      0.01       135\n",
      "\n",
      "    accuracy                           0.32      5964\n",
      "   macro avg       0.22      0.15      0.14      5964\n",
      "weighted avg       0.28      0.32      0.25      5964\n",
      "\n"
     ]
    }
   ],
   "source": [
    "report = classification_report(researchmentTarget_2, researchmentLabel_2, target_names=list(theTargetMap.index[1:])) #['...', '...']\n",
    "print(report)"
   ]
  },
  {
   "cell_type": "code",
   "execution_count": null,
   "metadata": {},
   "outputs": [],
   "source": []
  }
 ],
 "metadata": {
  "kernelspec": {
   "display_name": "Python 3",
   "language": "python",
   "name": "python3"
  },
  "language_info": {
   "codemirror_mode": {
    "name": "ipython",
    "version": 3
   },
   "file_extension": ".py",
   "mimetype": "text/x-python",
   "name": "python",
   "nbconvert_exporter": "python",
   "pygments_lexer": "ipython3",
   "version": "3.6.5"
  },
  "toc": {
   "base_numbering": 1,
   "nav_menu": {},
   "number_sections": true,
   "sideBar": true,
   "skip_h1_title": false,
   "title_cell": "Table of Contents",
   "title_sidebar": "Contents",
   "toc_cell": false,
   "toc_position": {},
   "toc_section_display": true,
   "toc_window_display": false
  }
 },
 "nbformat": 4,
 "nbformat_minor": 2
}
