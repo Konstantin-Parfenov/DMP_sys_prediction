{
 "cells": [
  {
   "cell_type": "code",
   "execution_count": 1,
   "metadata": {},
   "outputs": [],
   "source": [
    "import numpy as np\n",
    "import pandas as pd\n",
    "import os, sys\n",
    "from datetime import datetime\n",
    "\n",
    "import json\n",
    "\n",
    "import urllib.parse\n",
    "from urllib.parse import unquote\n",
    "from urllib.parse import urlparse\n"
   ]
  },
  {
   "cell_type": "markdown",
   "metadata": {},
   "source": [
    "# Построение справочника доменов"
   ]
  },
  {
   "cell_type": "markdown",
   "metadata": {},
   "source": [
    "theRadar - Скачали с Яндекса таблицу категорий. Отрезали все лишнее. Привили к форме, понятной нормальным людям"
   ]
  },
  {
   "cell_type": "code",
   "execution_count": 2,
   "metadata": {},
   "outputs": [
    {
     "name": "stdout",
     "output_type": "stream",
     "text": [
      "CPU times: user 52 ms, sys: 44 ms, total: 96 ms\n",
      "Wall time: 96 ms\n"
     ]
    }
   ],
   "source": [
    "%%time\n",
    "theLongColumns = ['Название ресурса', 'Тип ресурса', 'Медиахолдинг', 'Данные Метрики',\\\n",
    "       'Посетители (кросс-девайс)', 'Посетители (браузер)', 'Среднее время',\\\n",
    "       'Доля пользователей приложения', 'Дневная аудитория']\n",
    "    \n",
    "theRadar = pd.read_csv('~/project/radar.csv', sep=',' )\n",
    "theRadar['Тематики ресурса'] = theRadar['Тематики ресурса'].fillna(theRadar['Тип ресурса'])\n",
    "theRadar.drop(theLongColumns, axis=1, inplace=True)\n",
    "theRadar.rename({'URL-адрес ресурса':'domain', 'Тематики ресурса':'subject'}, axis=1, inplace=True )"
   ]
  },
  {
   "cell_type": "code",
   "execution_count": 3,
   "metadata": {},
   "outputs": [
    {
     "name": "stdout",
     "output_type": "stream",
     "text": [
      "CPU times: user 240 ms, sys: 12 ms, total: 252 ms\n",
      "Wall time: 253 ms\n"
     ]
    }
   ],
   "source": [
    "%%time\n",
    "#Процедура\n",
    "def toSubject( szSubject ):\n",
    "    nPoint = -1 if szSubject is None else szSubject.find('->')\n",
    "    return szSubject.strip().lower() if nPoint == -1 else (szSubject[:nPoint]).strip().lower()\n",
    "\n",
    "#Процедура\n",
    "def workupSubject( szField ):\n",
    "    return set([toSubject(value)  for value in szField.split(',') ])\n",
    "#Процедура\n",
    "def unboundedSubject( theCursor, theSubjectSet ) :\n",
    "    arr = np.array(list(theSubjectSet))\n",
    "    return arr[theCursor] if len(arr) > theCursor else np.nan\n",
    "\n",
    "#Перебираем элементы, и отрезаем все лишнее\n",
    "theRadar['subject'] = theRadar['subject'].apply( workupSubject )\n",
    "\n",
    "#Раскладываем перечисление на колонки\n",
    "for cursor in range(0, 7):\n",
    "    theRadar['subject' + str(cursor)] = theRadar['subject'].apply( lambda x: unboundedSubject(cursor,  x ) )\n",
    "    \n",
    "theRadar.drop(['subject'], axis=1, inplace=True)\n",
    "theRadar.rename({'subject0':'subject'}, axis=1, inplace=True )"
   ]
  },
  {
   "cell_type": "code",
   "execution_count": 4,
   "metadata": {},
   "outputs": [],
   "source": [
    "theRadar.to_csv('~/project/subjectByDomen.csv', sep=',', index=False)"
   ]
  },
  {
   "cell_type": "code",
   "execution_count": 5,
   "metadata": {},
   "outputs": [
    {
     "name": "stdout",
     "output_type": "stream",
     "text": [
      "<class 'pandas.core.frame.DataFrame'>\n",
      "RangeIndex: 10000 entries, 0 to 9999\n",
      "Data columns (total 8 columns):\n",
      "domain      10000 non-null object\n",
      "subject     10000 non-null object\n",
      "subject1    2384 non-null object\n",
      "subject2    692 non-null object\n",
      "subject3    231 non-null object\n",
      "subject4    147 non-null object\n",
      "subject5    142 non-null object\n",
      "subject6    1 non-null object\n",
      "dtypes: object(8)\n",
      "memory usage: 625.1+ KB\n"
     ]
    },
    {
     "data": {
      "text/plain": [
       "((10000, 8),\n",
       " None,\n",
       "         domain              subject subject1 subject2 subject3 subject4  \\\n",
       " 0    google.ru               портал      NaN      NaN      NaN      NaN   \n",
       " 1    yandex.ru               портал      NaN      NaN      NaN      NaN   \n",
       " 2       vk.com  развлечения и отдых      NaN      NaN      NaN      NaN   \n",
       " 3  youtube.com  развлечения и отдых      NaN      NaN      NaN      NaN   \n",
       " 4      mail.ru               портал      NaN      NaN      NaN      NaN   \n",
       " \n",
       "   subject5 subject6  \n",
       " 0      NaN      NaN  \n",
       " 1      NaN      NaN  \n",
       " 2      NaN      NaN  \n",
       " 3      NaN      NaN  \n",
       " 4      NaN      NaN  )"
      ]
     },
     "execution_count": 5,
     "metadata": {},
     "output_type": "execute_result"
    }
   ],
   "source": [
    "theRadar.shape, theRadar.info(), theRadar.head()"
   ]
  },
  {
   "cell_type": "markdown",
   "metadata": {},
   "source": [
    "### Чистка URL"
   ]
  },
  {
   "cell_type": "markdown",
   "metadata": {},
   "source": [
    "theRawData - Фактически оригинальная таблица сырых данных. Но убран JSON, очищены домены"
   ]
  },
  {
   "cell_type": "code",
   "execution_count": 6,
   "metadata": {},
   "outputs": [
    {
     "name": "stdout",
     "output_type": "stream",
     "text": [
      "CPU times: user 8.14 s, sys: 3.91 s, total: 12 s\n",
      "Wall time: 12.1 s\n"
     ]
    }
   ],
   "source": [
    "%%time\n",
    "# Загружаем файл\n",
    "file_path = '/data/share/project01/gender_age_dataset.txt'\n",
    "file_limit = None\n",
    "theRawData = pd.read_csv(file_path, sep='\\t', nrows=file_limit  )"
   ]
  },
  {
   "cell_type": "code",
   "execution_count": 7,
   "metadata": {},
   "outputs": [
    {
     "name": "stdout",
     "output_type": "stream",
     "text": [
      "CPU times: user 59.6 s, sys: 772 ms, total: 1min\n",
      "Wall time: 1min\n"
     ]
    }
   ],
   "source": [
    "%%time\n",
    "#Процедура. Фильтрует домен из url\n",
    "def toDomain( url ):\n",
    "    if url.startswith('http://http') : url = url[7:]\n",
    "    if url.startswith('http://&referrer=') : url = url[17:]\n",
    "        \n",
    "    parsed_url = urlparse( urllib.parse.unquote( url ).strip() )\n",
    "    if parsed_url.scheme not in ['http','https']: return None\n",
    "\n",
    "    url = parsed_url.netloc.strip()\n",
    "\n",
    "    if url.startswith('www.') : url = url[4:]\n",
    "\n",
    "    dpoint = url.rfind(':')     \n",
    "    if dpoint != -1 : url = url[:dpoint]    \n",
    "\n",
    "    dpoint = url.find('&')     \n",
    "    if dpoint != -1 : url = url[:dpoint]    \n",
    "\n",
    "    dpoint = url.rfind('@')     \n",
    "    if dpoint != -1 : url = url[dpoint+1:]    \n",
    "       \n",
    "    return url if url.rfind('.') != -1 else None\n",
    "\n",
    "#Процедура разбирает JSON и возвращет домен и timestamp\n",
    "def workupDomain( szJsonCollection ):\n",
    "    return [[ toDomain(value['url']), value['timestamp']]  for value in json.loads( szJsonCollection )['visits']]\n",
    "\n",
    "#Перебираем элементы, сохраняя из данных тока домен и timestamp\n",
    "theRawData['domain'] = theRawData['user_json'].apply( workupDomain )\n",
    "theRawData.drop(['user_json'], axis=1, inplace=True)"
   ]
  },
  {
   "cell_type": "markdown",
   "metadata": {},
   "source": [
    "### Построение развернутой таблицы \"следов\" оставленных пользователем"
   ]
  },
  {
   "cell_type": "markdown",
   "metadata": {},
   "source": [
    "theFootprints - Вычищенная и обогащенная таблица о приключениях пользователя в интернете"
   ]
  },
  {
   "cell_type": "code",
   "execution_count": 8,
   "metadata": {},
   "outputs": [
    {
     "name": "stdout",
     "output_type": "stream",
     "text": [
      "<class 'pandas.core.frame.DataFrame'>\n",
      "RangeIndex: 5829507 entries, 0 to 5829506\n",
      "Data columns (total 5 columns):\n",
      "uid          object\n",
      "gender       object\n",
      "age          object\n",
      "domain       object\n",
      "footprint    int64\n",
      "dtypes: int64(1), object(4)\n",
      "memory usage: 222.4+ MB\n",
      "CPU times: user 2min 48s, sys: 476 ms, total: 2min 48s\n",
      "Wall time: 2min 46s\n"
     ]
    }
   ],
   "source": [
    "%%time\n",
    "#Глобальные листы для формирования столбцов\n",
    "global uid\n",
    "uid = []\n",
    "\n",
    "global gender\n",
    "gender = []\n",
    "\n",
    "global age\n",
    "age = []\n",
    "\n",
    "global url \n",
    "domain = []\n",
    "\n",
    "global footprint\n",
    "footprint = []\n",
    "\n",
    "#Процедура. Пробераем по всем элементам json и формируем из них отдельные строки (для каждого листа)\n",
    "def extractDomain(row):\n",
    "    for rowDomain in row['domain'] :\n",
    "        uid.append( row['uid'] )\n",
    "        gender.append( row['gender'] )\n",
    "        age.append( row['age'] )\n",
    "        domain.append( rowDomain[0] )\n",
    "        footprint.append( rowDomain[1] )\n",
    "    \n",
    "#Вызываем обработку каждой строки.Рузультат не сохраняем, он в глобальных списках\n",
    "theRawData.apply( extractDomain, axis = 1 )\n",
    "#Строем DataFrame для доменов\n",
    "theFootprints = pd.DataFrame ({'uid':uid, 'gender' : gender,'age' : age, 'domain' : domain, 'footprint': footprint  }) \n",
    "theFootprints.info()"
   ]
  },
  {
   "cell_type": "code",
   "execution_count": 9,
   "metadata": {},
   "outputs": [
    {
     "name": "stderr",
     "output_type": "stream",
     "text": [
      "/opt/anaconda/envs/bd9/lib/python3.6/site-packages/pandas/core/frame.py:3778: SettingWithCopyWarning: \n",
      "A value is trying to be set on a copy of a slice from a DataFrame\n",
      "\n",
      "See the caveats in the documentation: http://pandas.pydata.org/pandas-docs/stable/indexing.html#indexing-view-versus-copy\n",
      "  return super(DataFrame, self).rename(**kwargs)\n"
     ]
    },
    {
     "name": "stdout",
     "output_type": "stream",
     "text": [
      "CPU times: user 24.2 s, sys: 1.81 s, total: 26.1 s\n",
      "Wall time: 10.2 s\n"
     ]
    }
   ],
   "source": [
    "%%time\n",
    "def domainToSubject( szDomain ):\n",
    "    if szDomain is None : return 'unknown.patch'\n",
    "    \n",
    "    theSplit = szDomain.split('.')\n",
    "    return szDomain if len(theSplit) < 3 else theSplit[-2] + '.' + theSplit[-1]\n",
    "\n",
    "theFootprints['key'] = theFootprints['domain'].apply( domainToSubject )\n",
    "theShort = theRadar[['domain', 'subject', 'subject1']]\n",
    "theShort.rename({'domain':'key'}, axis=1, inplace=True )\n",
    "theShort = theShort.append({'key': 'unknown.patch', 'subject':'неизвестный'},  ignore_index=True)\n",
    "\n",
    "theFootprints = pd.merge(theFootprints, theShort, on='key', how = 'left')\n",
    "theFootprints['subject'].fillna( 'прочее', inplace=True )\n",
    "theFootprints['subject1'].fillna( 'прочее', inplace=True )\n",
    "theFootprints.head()"
   ]
  },
  {
   "cell_type": "code",
   "execution_count": 10,
   "metadata": {},
   "outputs": [
    {
     "data": {
      "text/html": [
       "<div>\n",
       "<style scoped>\n",
       "    .dataframe tbody tr th:only-of-type {\n",
       "        vertical-align: middle;\n",
       "    }\n",
       "\n",
       "    .dataframe tbody tr th {\n",
       "        vertical-align: top;\n",
       "    }\n",
       "\n",
       "    .dataframe thead th {\n",
       "        text-align: right;\n",
       "    }\n",
       "</style>\n",
       "<table border=\"1\" class=\"dataframe\">\n",
       "  <thead>\n",
       "    <tr style=\"text-align: right;\">\n",
       "      <th></th>\n",
       "      <th>uid</th>\n",
       "      <th>gender</th>\n",
       "      <th>age</th>\n",
       "      <th>domain</th>\n",
       "      <th>footprint</th>\n",
       "      <th>subject</th>\n",
       "      <th>subject1</th>\n",
       "      <th>hourOfDay</th>\n",
       "    </tr>\n",
       "  </thead>\n",
       "  <tbody>\n",
       "    <tr>\n",
       "      <th>0</th>\n",
       "      <td>d50192e5-c44e-4ae8-ae7a-7cfe67c8b777</td>\n",
       "      <td>F</td>\n",
       "      <td>18-24</td>\n",
       "      <td>zebra-zoya.ru</td>\n",
       "      <td>1419688144068</td>\n",
       "      <td>прочее</td>\n",
       "      <td>прочее</td>\n",
       "      <td>13</td>\n",
       "    </tr>\n",
       "    <tr>\n",
       "      <th>1</th>\n",
       "      <td>d50192e5-c44e-4ae8-ae7a-7cfe67c8b777</td>\n",
       "      <td>F</td>\n",
       "      <td>18-24</td>\n",
       "      <td>news.yandex.ru</td>\n",
       "      <td>1426666298001</td>\n",
       "      <td>портал</td>\n",
       "      <td>прочее</td>\n",
       "      <td>08</td>\n",
       "    </tr>\n",
       "    <tr>\n",
       "      <th>2</th>\n",
       "      <td>d50192e5-c44e-4ae8-ae7a-7cfe67c8b777</td>\n",
       "      <td>F</td>\n",
       "      <td>18-24</td>\n",
       "      <td>sotovik.ru</td>\n",
       "      <td>1426666298000</td>\n",
       "      <td>прочее</td>\n",
       "      <td>прочее</td>\n",
       "      <td>08</td>\n",
       "    </tr>\n",
       "    <tr>\n",
       "      <th>3</th>\n",
       "      <td>d50192e5-c44e-4ae8-ae7a-7cfe67c8b777</td>\n",
       "      <td>F</td>\n",
       "      <td>18-24</td>\n",
       "      <td>news.yandex.ru</td>\n",
       "      <td>1426661722001</td>\n",
       "      <td>портал</td>\n",
       "      <td>прочее</td>\n",
       "      <td>06</td>\n",
       "    </tr>\n",
       "    <tr>\n",
       "      <th>4</th>\n",
       "      <td>d50192e5-c44e-4ae8-ae7a-7cfe67c8b777</td>\n",
       "      <td>F</td>\n",
       "      <td>18-24</td>\n",
       "      <td>sotovik.ru</td>\n",
       "      <td>1426661722000</td>\n",
       "      <td>прочее</td>\n",
       "      <td>прочее</td>\n",
       "      <td>06</td>\n",
       "    </tr>\n",
       "  </tbody>\n",
       "</table>\n",
       "</div>"
      ],
      "text/plain": [
       "                                    uid gender    age          domain  \\\n",
       "0  d50192e5-c44e-4ae8-ae7a-7cfe67c8b777      F  18-24   zebra-zoya.ru   \n",
       "1  d50192e5-c44e-4ae8-ae7a-7cfe67c8b777      F  18-24  news.yandex.ru   \n",
       "2  d50192e5-c44e-4ae8-ae7a-7cfe67c8b777      F  18-24      sotovik.ru   \n",
       "3  d50192e5-c44e-4ae8-ae7a-7cfe67c8b777      F  18-24  news.yandex.ru   \n",
       "4  d50192e5-c44e-4ae8-ae7a-7cfe67c8b777      F  18-24      sotovik.ru   \n",
       "\n",
       "       footprint subject subject1 hourOfDay  \n",
       "0  1419688144068  прочее   прочее        13  \n",
       "1  1426666298001  портал   прочее        08  \n",
       "2  1426666298000  прочее   прочее        08  \n",
       "3  1426661722001  портал   прочее        06  \n",
       "4  1426661722000  прочее   прочее        06  "
      ]
     },
     "execution_count": 10,
     "metadata": {},
     "output_type": "execute_result"
    }
   ],
   "source": [
    "theFootprints['hourOfDay'] = theFootprints['footprint'].apply( lambda tm : datetime.utcfromtimestamp(int(tm)/1000).strftime('%H') ) ##'%Y.%m.%d %H:%M:%S'\n",
    "theFootprints.drop(['key'], axis=1, inplace=True)\n",
    "theFootprints.head()"
   ]
  },
  {
   "cell_type": "code",
   "execution_count": 11,
   "metadata": {},
   "outputs": [],
   "source": [
    "theFootprints.to_csv('~/project/footprints.csv', sep=',', index=False)"
   ]
  },
  {
   "cell_type": "markdown",
   "metadata": {},
   "source": [
    "### Строем новую таблицу фич"
   ]
  },
  {
   "cell_type": "markdown",
   "metadata": {},
   "source": [
    "theFeatch - таблица фич по каждому пользователю"
   ]
  },
  {
   "cell_type": "code",
   "execution_count": 12,
   "metadata": {},
   "outputs": [],
   "source": [
    "theBackup = theFootprints.copy()"
   ]
  },
  {
   "cell_type": "code",
   "execution_count": 13,
   "metadata": {},
   "outputs": [],
   "source": [
    "theFootprints = theBackup.copy()"
   ]
  },
  {
   "cell_type": "code",
   "execution_count": 14,
   "metadata": {},
   "outputs": [
    {
     "data": {
      "text/html": [
       "<div>\n",
       "<style scoped>\n",
       "    .dataframe tbody tr th:only-of-type {\n",
       "        vertical-align: middle;\n",
       "    }\n",
       "\n",
       "    .dataframe tbody tr th {\n",
       "        vertical-align: top;\n",
       "    }\n",
       "\n",
       "    .dataframe thead th {\n",
       "        text-align: right;\n",
       "    }\n",
       "</style>\n",
       "<table border=\"1\" class=\"dataframe\">\n",
       "  <thead>\n",
       "    <tr style=\"text-align: right;\">\n",
       "      <th></th>\n",
       "      <th>gender</th>\n",
       "      <th>age</th>\n",
       "      <th>uid</th>\n",
       "    </tr>\n",
       "  </thead>\n",
       "  <tbody>\n",
       "    <tr>\n",
       "      <th>0</th>\n",
       "      <td>F</td>\n",
       "      <td>18-24</td>\n",
       "      <td>d50192e5-c44e-4ae8-ae7a-7cfe67c8b777</td>\n",
       "    </tr>\n",
       "    <tr>\n",
       "      <th>1</th>\n",
       "      <td>M</td>\n",
       "      <td>25-34</td>\n",
       "      <td>d502331d-621e-4721-ada2-5d30b2c3801f</td>\n",
       "    </tr>\n",
       "    <tr>\n",
       "      <th>2</th>\n",
       "      <td>F</td>\n",
       "      <td>25-34</td>\n",
       "      <td>d50237ea-747e-48a2-ba46-d08e71dddfdb</td>\n",
       "    </tr>\n",
       "    <tr>\n",
       "      <th>3</th>\n",
       "      <td>F</td>\n",
       "      <td>25-34</td>\n",
       "      <td>d502f29f-d57a-46bf-8703-1cb5f8dcdf03</td>\n",
       "    </tr>\n",
       "    <tr>\n",
       "      <th>4</th>\n",
       "      <td>M</td>\n",
       "      <td>&gt;=55</td>\n",
       "      <td>d503c3b2-a0c2-4f47-bb27-065058c73008</td>\n",
       "    </tr>\n",
       "  </tbody>\n",
       "</table>\n",
       "</div>"
      ],
      "text/plain": [
       "  gender    age                                   uid\n",
       "0      F  18-24  d50192e5-c44e-4ae8-ae7a-7cfe67c8b777\n",
       "1      M  25-34  d502331d-621e-4721-ada2-5d30b2c3801f\n",
       "2      F  25-34  d50237ea-747e-48a2-ba46-d08e71dddfdb\n",
       "3      F  25-34  d502f29f-d57a-46bf-8703-1cb5f8dcdf03\n",
       "4      M   >=55  d503c3b2-a0c2-4f47-bb27-065058c73008"
      ]
     },
     "execution_count": 14,
     "metadata": {},
     "output_type": "execute_result"
    }
   ],
   "source": [
    "theFeatch = theRawData.copy()\n",
    "theFeatch.drop(['domain'], axis=1, inplace=True)\n",
    "theFeatch.head()"
   ]
  },
  {
   "cell_type": "code",
   "execution_count": 15,
   "metadata": {},
   "outputs": [
    {
     "name": "stdout",
     "output_type": "stream",
     "text": [
      "CPU times: user 3.81 s, sys: 840 ms, total: 4.65 s\n",
      "Wall time: 2.85 s\n"
     ]
    }
   ],
   "source": [
    "%%time\n",
    "theFootprints.drop(['gender','age','domain', 'hourOfDay'], axis=1, inplace=True)\n",
    "theFootprints = theFootprints.groupby(['uid', 'subject', 'subject1'], as_index = False ).count()\n",
    "theFootprints.set_index(['uid'], inplace=True)\n",
    "theFootprints.head()"
   ]
  },
  {
   "cell_type": "code",
   "execution_count": 16,
   "metadata": {},
   "outputs": [
    {
     "name": "stdout",
     "output_type": "stream",
     "text": [
      "(41138, 88)\n",
      "CPU times: user 40.3 s, sys: 264 ms, total: 40.6 s\n",
      "Wall time: 38.6 s\n"
     ]
    }
   ],
   "source": [
    "%%time\n",
    "def toFetch( uid ):\n",
    "    theUid = theFootprints.loc[uid]\n",
    "\n",
    "    dict_ = {'uid':uid }\n",
    "    if  isinstance(theUid, pd.DataFrame) :\n",
    "        for _, theLine in theUid.iterrows():\n",
    "            if theUid['subject'] is not None :\n",
    "                dict_[theLine['subject'] + ' ' + theLine['subject1'] ] = theLine['footprint'] \n",
    "    else :\n",
    "        if theUid['subject'] is not None :\n",
    "            dict_ [theUid['subject'] + ' ' + theUid['subject1'] ] =  theUid['footprint']\n",
    "    return dict_\n",
    "\n",
    "theTmp =  pd.DataFrame( [toFetch( uid ) for uid in theRawData.uid] )\n",
    "theFeatch = pd.merge(theFeatch, theTmp, on='uid')\n",
    "\n",
    "print(theFeatch.shape)\n",
    "theFeatch.head()"
   ]
  },
  {
   "cell_type": "code",
   "execution_count": 17,
   "metadata": {},
   "outputs": [],
   "source": [
    "theFeatch.to_csv('~/project/fetch.csv', sep=',', index=False)"
   ]
  },
  {
   "cell_type": "code",
   "execution_count": 22,
   "metadata": {},
   "outputs": [
    {
     "data": {
      "text/plain": [
       "Index(['gender', 'age', 'uid', 'авто и мото прочее', 'авто и мото торговля',\n",
       "       'автотовары авто и мото', 'агрегаторы прочее', 'азартные игры ставки',\n",
       "       'бизнес новости и сми', 'бизнес прочее', 'бизнес торговля',\n",
       "       'видео прочее', 'государство и общество прочее',\n",
       "       'для взрослых (18+) прочее', 'домашнее хозяйство прочее',\n",
       "       'домашнее хозяйство строительство и ремонт',\n",
       "       'домашнее хозяйство торговля', 'домашние животные прочее',\n",
       "       'домашние животные торговля', 'здоровье красота', 'здоровье медицина',\n",
       "       'здоровье стиль', 'интернет-магазины прочее',\n",
       "       'контентные проекты прочее', 'культура и искусство прочее',\n",
       "       'культура и искусство развлечения и отдых',\n",
       "       'культура и искусство справочные ресурсы', 'медицина прочее',\n",
       "       'медицина торговля', 'наука прочее', 'недвижимость прочее',\n",
       "       'неизвестный прочее', 'непознанное прочее', 'новости и сми авто и мото',\n",
       "       'новости и сми бизнес', 'новости и сми журналы',\n",
       "       'новости и сми культура и искусство', 'новости и сми медицина',\n",
       "       'новости и сми наука', 'новости и сми прочее',\n",
       "       'новости и сми развлечения и отдых',\n",
       "       'новости и сми спорт и активный образ жизни',\n",
       "       'новости и сми техника и технологии', 'новости прочее',\n",
       "       'образование прочее', 'онлайн-игры прочее', 'перевозки транспорт',\n",
       "       'портал прочее', 'представительства бизнесов и организаций прочее',\n",
       "       'промышленность и сельское хозяйство прочее', 'прочее прочее',\n",
       "       'пту образование', 'путешествия города', 'путешествия отели и кемпинги',\n",
       "       'путешествия прочее', 'путешествия справочные ресурсы',\n",
       "       'работа и карьера прочее', 'развлечения и отдых прочее',\n",
       "       'религия прочее', 'семья и дети прочее', 'семья и дети торговля',\n",
       "       'сервисы прочее', 'сообщества прочее', 'социальные сети прочее',\n",
       "       'спорт и активный образ жизни прочее',\n",
       "       'спорт и активный образ жизни семья и дети',\n",
       "       'справочные ресурсы государство и общество',\n",
       "       'справочные ресурсы прочее', 'справочные ресурсы транспорт',\n",
       "       'строительство и ремонт прочее', 'строительство и ремонт торговля',\n",
       "       'техника и технологии прочее', 'торговля прочее',\n",
       "       'торговля спорт и активный образ жизни', 'услуги авто и мото',\n",
       "       'услуги бизнес', 'услуги домашнее хозяйство', 'услуги здоровье',\n",
       "       'услуги медицина', 'услуги перевозки', 'услуги прочее',\n",
       "       'услуги справочные ресурсы', 'услуги техника и технологии',\n",
       "       'услуги транспорт', 'финансы новости и сми', 'финансы прочее',\n",
       "       'финансы услуги', 'цветы торговля'],\n",
       "      dtype='object')"
      ]
     },
     "execution_count": 22,
     "metadata": {},
     "output_type": "execute_result"
    }
   ],
   "source": [
    "theFeatch.columns\n"
   ]
  },
  {
   "cell_type": "code",
   "execution_count": null,
   "metadata": {},
   "outputs": [],
   "source": []
  }
 ],
 "metadata": {
  "kernelspec": {
   "display_name": "Python 3",
   "language": "python",
   "name": "python3"
  },
  "language_info": {
   "codemirror_mode": {
    "name": "ipython",
    "version": 3
   },
   "file_extension": ".py",
   "mimetype": "text/x-python",
   "name": "python",
   "nbconvert_exporter": "python",
   "pygments_lexer": "ipython3",
   "version": "3.6.5"
  },
  "toc": {
   "base_numbering": 1,
   "nav_menu": {},
   "number_sections": true,
   "sideBar": true,
   "skip_h1_title": false,
   "title_cell": "Table of Contents",
   "title_sidebar": "Contents",
   "toc_cell": false,
   "toc_position": {},
   "toc_section_display": true,
   "toc_window_display": false
  }
 },
 "nbformat": 4,
 "nbformat_minor": 2
}
