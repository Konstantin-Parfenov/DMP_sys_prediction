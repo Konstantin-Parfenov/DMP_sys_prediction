{
 "cells": [
  {
   "cell_type": "code",
   "execution_count": 1,
   "metadata": {},
   "outputs": [],
   "source": [
    "import numpy as np\n",
    "import pandas as pd\n",
    "import os, sys\n",
    "\n",
    "import json\n",
    "\n",
    "import urllib.parse\n",
    "from urllib.parse import unquote\n",
    "from urllib.parse import urlparse"
   ]
  },
  {
   "cell_type": "markdown",
   "metadata": {},
   "source": [
    "# Подготовка справочника от Yandex"
   ]
  },
  {
   "cell_type": "code",
   "execution_count": 2,
   "metadata": {},
   "outputs": [
    {
     "name": "stdout",
     "output_type": "stream",
     "text": [
      "CPU times: user 632 ms, sys: 48 ms, total: 680 ms\n",
      "Wall time: 687 ms\n"
     ]
    }
   ],
   "source": [
    "%%time\n",
    "theLongColumns = ['Название ресурса', 'Тип ресурса', 'Медиахолдинг', 'Данные Метрики',\\\n",
    "       'Посетители (кросс-девайс)', 'Посетители (браузер)', 'Среднее время',\\\n",
    "       'Доля пользователей приложения', 'Дневная аудитория']\n",
    "\n",
    "#Процедура\n",
    "def toSubject( szSubject ):\n",
    "    nPoint = -1 if szSubject is None else szSubject.find('->')\n",
    "    return szSubject.strip().lower() if nPoint == -1 else (szSubject[:nPoint]).strip().lower()\n",
    "\n",
    "#Процедура\n",
    "def workupSubject( szField ):\n",
    "    return set([toSubject(value)  for value in szField.split(',') ])\n",
    "#Процедура\n",
    "def unboundedSubject( theCursor, theSubjectSet ) :\n",
    "    arr = np.array(list(theSubjectSet))\n",
    "    return arr[theCursor] if len(arr) > theCursor else np.nan\n",
    "\n",
    "#Читаем скаченный справочник, удаляем лишние\n",
    "theRadar = pd.read_csv('~/project/radar.csv', sep=',' )\n",
    "theRadar['Тематики ресурса'] = theRadar['Тематики ресурса'].fillna(theRadar['Тип ресурса'])\n",
    "theRadar.drop(theLongColumns, axis=1, inplace=True)\n",
    "theRadar.rename({'URL-адрес ресурса':'domain', 'Тематики ресурса':'subject'}, axis=1, inplace=True )\n",
    "\n",
    "#Перебираем элементы, и отрезаем все лишнее\n",
    "theRadar['subject'] = theRadar['subject'].apply( workupSubject )\n",
    "\n",
    "#Раскладываем перечисление на колонки\n",
    "for cursor in range(0, 7):\n",
    "    theRadar['subject' + str(cursor)] = theRadar['subject'].apply( lambda x: unboundedSubject(cursor,  x ) )\n",
    "    \n",
    "theRadar.drop(['subject'], axis=1, inplace=True)\n",
    "theRadar.rename({'subject0':'subject'}, axis=1, inplace=True )\n",
    "\n",
    " #Объединяем темы, по используемым\n",
    "theRadar['subject1'].fillna( '', inplace=True )\n",
    "theRadar['subject2'].fillna( '', inplace=True )\n",
    "theRadar['subject'] = theRadar[['subject', 'subject1', 'subject2']].agg(' '.join, axis=1)#\n",
    "\n",
    "#Удаляем неиспользуемое\n",
    "theRadar.drop(['subject1', 'subject2', 'subject3', 'subject4', 'subject5', 'subject6'], axis=1, inplace=True)\n",
    "#theRadar.shape, theRadar.info()\n",
    "#theRadar.head(25)\n",
    "theRadar.to_csv('~/subject.csv', sep=',', index=False)"
   ]
  },
  {
   "cell_type": "markdown",
   "metadata": {},
   "source": [
    "# Чистка URL для BagOfWords"
   ]
  },
  {
   "cell_type": "code",
   "execution_count": null,
   "metadata": {},
   "outputs": [],
   "source": [
    "sourceName = '~/NoTargetData.csv'\n",
    "#sourceName = '/data/share/project01/gender_age_dataset.txt'"
   ]
  },
  {
   "cell_type": "code",
   "execution_count": null,
   "metadata": {},
   "outputs": [],
   "source": [
    "%%time\n",
    "#Процедура. Фильтрует домен из url\n",
    "def toDomain( url ):\n",
    "    if url.startswith('http://http') : url = url[7:]\n",
    "    if url.startswith('http://&referrer=') : url = url[17:]\n",
    "        \n",
    "    parsed_url = urlparse( urllib.parse.unquote( url ).strip() )\n",
    "    if parsed_url.scheme not in ['http','https']: return None\n",
    "\n",
    "    url = parsed_url.netloc.strip()\n",
    "\n",
    "    if url.startswith('www.') : url = url[4:]\n",
    "\n",
    "    dpoint = url.rfind(':')     \n",
    "    if dpoint != -1 : url = url[:dpoint]    \n",
    "\n",
    "    dpoint = url.find('&')     \n",
    "    if dpoint != -1 : url = url[:dpoint]    \n",
    "\n",
    "    dpoint = url.rfind('@')     \n",
    "    if dpoint != -1 : url = url[dpoint+1:]    \n",
    "       \n",
    "    if url.rfind('.') == -1: return None\n",
    "\n",
    "    theSplit = url.split('.')\n",
    "    return url if len(theSplit) < 3 else theSplit[-2] + '.' + theSplit[-1]\n",
    "\n",
    "def toSubject(domain):\n",
    "    try: return theRadar.loc[domain]['subject'].strip()  \n",
    "    except: return 'прочее'\n",
    "    \n",
    "#Генерируем фичи для uid\n",
    "def toFetch( row ):\n",
    "    theUidList = [ toDomain(value['url']) for value in json.loads( row[1].user_json) ['visits'] ]\n",
    "    theUidList = [toSubject(value) for value in theUidList if value is not None]\n",
    "    dict_ = {'uid':row[1].uid, 'text':' '.join( theUidList )}\n",
    "    return dict_\n",
    "    \n",
    "#Перебираем элементы, сохраняя из данных тока домен \n",
    "theRadar = pd.read_csv('~/subject.csv', sep=',' )\n",
    "theRadar.set_index(['domain'], inplace=True)\n",
    "theRawData = pd.read_csv(sourceName, sep='\\t' )\n",
    "theFeatch =  pd.DataFrame( [toFetch( row ) for row in theRawData.iterrows()] )\n",
    "theFeatch.set_index(['uid'], inplace=True)"
   ]
  },
  {
   "cell_type": "code",
   "execution_count": null,
   "metadata": {},
   "outputs": [],
   "source": [
    "theFeatch.head()\n",
    "#theFeatch.shape"
   ]
  },
  {
   "cell_type": "markdown",
   "metadata": {},
   "source": [
    "# Чистка URL для Классификатора"
   ]
  },
  {
   "cell_type": "code",
   "execution_count": 3,
   "metadata": {},
   "outputs": [],
   "source": [
    "#sourceName = '~/NoTargetData.csv'\n",
    "sourceName = '/data/share/project01/gender_age_dataset.txt'"
   ]
  },
  {
   "cell_type": "code",
   "execution_count": 4,
   "metadata": {},
   "outputs": [
    {
     "name": "stdout",
     "output_type": "stream",
     "text": [
      "CPU times: user 6min 21s, sys: 11.8 s, total: 6min 32s\n",
      "Wall time: 6min 36s\n"
     ]
    }
   ],
   "source": [
    "%%time\n",
    "#Процедура. Фильтрует домен из url\n",
    "def toDomain( url ):\n",
    "    if url.startswith('http://http') : url = url[7:]\n",
    "    if url.startswith('http://&referrer=') : url = url[17:]\n",
    "        \n",
    "    parsed_url = urlparse( urllib.parse.unquote( url ).strip() )\n",
    "    if parsed_url.scheme not in ['http','https']: return None\n",
    "\n",
    "    url = parsed_url.netloc.strip()\n",
    "\n",
    "    if url.startswith('www.') : url = url[4:]\n",
    "\n",
    "    dpoint = url.rfind(':')     \n",
    "    if dpoint != -1 : url = url[:dpoint]    \n",
    "\n",
    "    dpoint = url.find('&')     \n",
    "    if dpoint != -1 : url = url[:dpoint]    \n",
    "\n",
    "    dpoint = url.rfind('@')     \n",
    "    if dpoint != -1 : url = url[dpoint+1:]    \n",
    "       \n",
    "    if url.rfind('.') == -1: return None\n",
    "\n",
    "    theSplit = url.split('.')\n",
    "    return url if len(theSplit) < 3 else theSplit[-2] + '.' + theSplit[-1]\n",
    "\n",
    "def toSubject(domain):\n",
    "    try: return theRadar.loc[domain]['subject'].strip()  \n",
    "    except: return 'прочее'\n",
    "    \n",
    "#Генерируем фичи для uid\n",
    "def toFetch( row ):\n",
    "    try:\n",
    "        theJson = json.loads( row[1].user_json)\n",
    "        theUidList = [ toDomain(value['url']) for value in  theJson['visits'] ]\n",
    "        theUidList = [value for value in theUidList if value is not None]\n",
    "    except : \n",
    "        theUidList = ['nodata.ru']\n",
    "        \n",
    "    theUid = pd.DataFrame( 0, index = theUidList, columns = ['footprint'] )\n",
    "    theUid.index.name = 'domain'\n",
    "    theUid = theUid.groupby(['domain']).count()\n",
    "    theUid['subject'] = theUid.apply(lambda value : toSubject(value.name), axis = 1 )\n",
    "\n",
    "    dict_ = {'uid':row[1].uid }\n",
    "    for _, theLine in theUid.iterrows():\n",
    "        dict_[ theLine['subject'] ] = theLine['footprint'] \n",
    "    return dict_\n",
    "\n",
    "    \n",
    "#Перебираем элементы, сохраняя из данных тока домен \n",
    "theRadar = pd.read_csv('~/subject.csv', sep=',' )\n",
    "theRadar.set_index(['domain'], inplace=True)\n",
    "theRawData = pd.read_csv(sourceName, sep='\\t' )\n",
    "theFeatch =  pd.DataFrame( [toFetch( row ) for row in theRawData.iterrows()] )\n",
    "theFeatch.set_index(['uid'], inplace=True)"
   ]
  },
  {
   "cell_type": "code",
   "execution_count": 5,
   "metadata": {},
   "outputs": [
    {
     "data": {
      "text/plain": [
       "(41138, 96)"
      ]
     },
     "execution_count": 5,
     "metadata": {},
     "output_type": "execute_result"
    }
   ],
   "source": [
    "#theFeatch.head()\n",
    "theFeatch.shape"
   ]
  },
  {
   "cell_type": "markdown",
   "metadata": {},
   "source": [
    "# Формируем полную таблицу для исследований\n"
   ]
  },
  {
   "cell_type": "code",
   "execution_count": 6,
   "metadata": {},
   "outputs": [
    {
     "name": "stdout",
     "output_type": "stream",
     "text": [
      "CPU times: user 5.89 s, sys: 404 ms, total: 6.3 s\n",
      "Wall time: 4.58 s\n"
     ]
    }
   ],
   "source": [
    "%%time\n",
    "theRawData.drop(['user_json'], axis=1, inplace=True)\n",
    "theRawData.set_index(['uid'], inplace=True)\n",
    "\n",
    "theFeatch = pd.merge(theRawData, theFeatch, on='uid', how = 'left')\n",
    "theFeatch.reset_index(inplace=True)\n",
    "theFeatch.to_csv('~/project/fetch3S.csv', sep=',', index=False)"
   ]
  },
  {
   "cell_type": "code",
   "execution_count": null,
   "metadata": {},
   "outputs": [],
   "source": []
  }
 ],
 "metadata": {
  "kernelspec": {
   "display_name": "Python 3",
   "language": "python",
   "name": "python3"
  },
  "language_info": {
   "codemirror_mode": {
    "name": "ipython",
    "version": 3
   },
   "file_extension": ".py",
   "mimetype": "text/x-python",
   "name": "python",
   "nbconvert_exporter": "python",
   "pygments_lexer": "ipython3",
   "version": "3.6.5"
  },
  "toc": {
   "base_numbering": 1,
   "nav_menu": {},
   "number_sections": true,
   "sideBar": true,
   "skip_h1_title": false,
   "title_cell": "Table of Contents",
   "title_sidebar": "Contents",
   "toc_cell": false,
   "toc_position": {},
   "toc_section_display": true,
   "toc_window_display": false
  }
 },
 "nbformat": 4,
 "nbformat_minor": 2
}
