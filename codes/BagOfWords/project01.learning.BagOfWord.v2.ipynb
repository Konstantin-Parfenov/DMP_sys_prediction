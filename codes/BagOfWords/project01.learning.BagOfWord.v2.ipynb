{
 "cells": [
  {
   "cell_type": "code",
   "execution_count": 1,
   "metadata": {},
   "outputs": [],
   "source": [
    "import numpy as np\n",
    "import pandas as pd\n",
    "import os, sys\n",
    "\n",
    "import json\n",
    "\n",
    "import urllib.parse\n",
    "from urllib.parse import unquote\n",
    "from urllib.parse import urlparse"
   ]
  },
  {
   "cell_type": "markdown",
   "metadata": {},
   "source": [
    "# Version IV"
   ]
  },
  {
   "cell_type": "markdown",
   "metadata": {},
   "source": [
    "## BagOfWord for XGBoost"
   ]
  },
  {
   "cell_type": "markdown",
   "metadata": {},
   "source": [
    "### Загружаем данные"
   ]
  },
  {
   "cell_type": "code",
   "execution_count": 2,
   "metadata": {},
   "outputs": [],
   "source": [
    "#Параметры вычислений\n",
    "file_path = '~/project/footprints.csv'\n",
    "file_limit = None"
   ]
  },
  {
   "cell_type": "code",
   "execution_count": 3,
   "metadata": {},
   "outputs": [
    {
     "name": "stdout",
     "output_type": "stream",
     "text": [
      "CPU times: user 2min 13s, sys: 4.05 s, total: 2min 17s\n",
      "Wall time: 2min 13s\n"
     ]
    }
   ],
   "source": [
    "%%time\n",
    "# Загружаем файл Сибираем признаки в один мешок\n",
    "theUserCorpus = pd.read_csv(file_path, sep=',', nrows=file_limit  )\n",
    "theUserCorpus['subject'] = theUserCorpus[['subject', 'subject1']].agg(' '.join, axis=1)\n",
    "theUserCorpus.drop(['domain', 'footprint', 'subject1'], axis=1, inplace=True )\n",
    "theUserCorpus = theUserCorpus.groupby(['uid', 'age', 'gender'], as_index = False ).agg({'subject':' '.join})#transform(lambda x: ','.join(x))\n",
    "theUserCorpus.head()"
   ]
  },
  {
   "cell_type": "code",
   "execution_count": 4,
   "metadata": {},
   "outputs": [
    {
     "data": {
      "text/html": [
       "<div>\n",
       "<style scoped>\n",
       "    .dataframe tbody tr th:only-of-type {\n",
       "        vertical-align: middle;\n",
       "    }\n",
       "\n",
       "    .dataframe tbody tr th {\n",
       "        vertical-align: top;\n",
       "    }\n",
       "\n",
       "    .dataframe thead th {\n",
       "        text-align: right;\n",
       "    }\n",
       "</style>\n",
       "<table border=\"1\" class=\"dataframe\">\n",
       "  <thead>\n",
       "    <tr style=\"text-align: right;\">\n",
       "      <th></th>\n",
       "      <th>uid</th>\n",
       "      <th>age</th>\n",
       "      <th>gender</th>\n",
       "      <th>subject</th>\n",
       "    </tr>\n",
       "  </thead>\n",
       "  <tbody>\n",
       "    <tr>\n",
       "      <th>0</th>\n",
       "      <td>0000e7ca-32e6-4bef-bdca-e21c025071ff</td>\n",
       "      <td>-</td>\n",
       "      <td>-</td>\n",
       "      <td>прочее прочее прочее прочее прочее прочее пту ...</td>\n",
       "    </tr>\n",
       "    <tr>\n",
       "      <th>1</th>\n",
       "      <td>0000f3cf-6e9a-4eab-92f4-cefdad108c83</td>\n",
       "      <td>-</td>\n",
       "      <td>-</td>\n",
       "      <td>справочные ресурсы прочее прочее прочее прочее...</td>\n",
       "    </tr>\n",
       "    <tr>\n",
       "      <th>2</th>\n",
       "      <td>000381a6-0400-40f8-98c0-93a6c0852d2d</td>\n",
       "      <td>-</td>\n",
       "      <td>-</td>\n",
       "      <td>домашнее хозяйство прочее домашнее хозяйство п...</td>\n",
       "    </tr>\n",
       "    <tr>\n",
       "      <th>3</th>\n",
       "      <td>00062d89-a3ba-40dd-9a25-212c9f429133</td>\n",
       "      <td>-</td>\n",
       "      <td>-</td>\n",
       "      <td>прочее прочее прочее прочее прочее прочее проч...</td>\n",
       "    </tr>\n",
       "    <tr>\n",
       "      <th>4</th>\n",
       "      <td>0009233e-a0c2-438e-ac36-bd3e1b7dad1e</td>\n",
       "      <td>-</td>\n",
       "      <td>-</td>\n",
       "      <td>прочее прочее прочее прочее прочее прочее проч...</td>\n",
       "    </tr>\n",
       "  </tbody>\n",
       "</table>\n",
       "</div>"
      ],
      "text/plain": [
       "                                    uid age gender  \\\n",
       "0  0000e7ca-32e6-4bef-bdca-e21c025071ff   -      -   \n",
       "1  0000f3cf-6e9a-4eab-92f4-cefdad108c83   -      -   \n",
       "2  000381a6-0400-40f8-98c0-93a6c0852d2d   -      -   \n",
       "3  00062d89-a3ba-40dd-9a25-212c9f429133   -      -   \n",
       "4  0009233e-a0c2-438e-ac36-bd3e1b7dad1e   -      -   \n",
       "\n",
       "                                             subject  \n",
       "0  прочее прочее прочее прочее прочее прочее пту ...  \n",
       "1  справочные ресурсы прочее прочее прочее прочее...  \n",
       "2  домашнее хозяйство прочее домашнее хозяйство п...  \n",
       "3  прочее прочее прочее прочее прочее прочее проч...  \n",
       "4  прочее прочее прочее прочее прочее прочее проч...  "
      ]
     },
     "execution_count": 4,
     "metadata": {},
     "output_type": "execute_result"
    }
   ],
   "source": [
    "theUserCorpus.head()"
   ]
  },
  {
   "cell_type": "code",
   "execution_count": 5,
   "metadata": {},
   "outputs": [],
   "source": [
    "#формируем мега признак\n",
    "theUserCorpus['target'] = theUserCorpus.gender+theUserCorpus.age\n",
    "theUserCorpus.drop(['gender', 'age'], axis=1, inplace=True )\n",
    "theUserCorpus.set_index(['uid'], inplace=True)\n"
   ]
  },
  {
   "cell_type": "code",
   "execution_count": 6,
   "metadata": {},
   "outputs": [],
   "source": [
    "#Создаем карту групп признаков: где чего лежит\n",
    "theTargetName = sorted(theUserCorpus.target.unique())\n",
    "theTargetMap = pd.DataFrame( {'code':range(0, len(theTargetName)) }, index = theTargetName )"
   ]
  },
  {
   "cell_type": "code",
   "execution_count": 7,
   "metadata": {},
   "outputs": [],
   "source": [
    "#Генерируем номера групп согластно карте признаков\n",
    "theUserCorpus['targetID'] = theUserCorpus['target'].apply( lambda x:  theTargetMap.code.loc[x] )\n",
    "theUserCorpus.drop(['target'], axis=1, inplace=True )\n",
    "theUserCorpus.sort_values(by=['targetID'], inplace=True)"
   ]
  },
  {
   "cell_type": "code",
   "execution_count": 8,
   "metadata": {},
   "outputs": [],
   "source": [
    "#Рассчитываем положения их смещения в общем массиве\n",
    "theTargetMap['len'] = theTargetMap['code'].apply( lambda type:  len(theUserCorpus[theUserCorpus.targetID == type]) )\n",
    "theTargetMap['begin'] = [theTargetMap[theTargetMap.code < type ]['len'].sum() \\\n",
    "                        if type > 0 else 0 \\\n",
    "                        for type in range(0, 11) ]\n",
    "theTargetMap['end'] = [theTargetMap[theTargetMap.code <= type ]['len'].sum() \\\n",
    "                        if type > 0 else int(theTargetMap[theTargetMap.code == type ]['len']) \\\n",
    "                        for type in range(0, 11) ]"
   ]
  },
  {
   "cell_type": "code",
   "execution_count": 9,
   "metadata": {},
   "outputs": [],
   "source": [
    "#Эта тупая тварь не сохраняет в файл индексы. Ставим заплатку\n",
    "theUserCorpus.reset_index(inplace=True)\n",
    "theUserCorpus.to_csv('~/project/corpus.csv', sep=',', index=False)\n",
    "theTargetMap.to_csv('~/project/corpus_map.csv', sep=',', index=False)\n",
    "theUserCorpus.set_index(['uid'], inplace=True)"
   ]
  },
  {
   "cell_type": "markdown",
   "metadata": {},
   "source": [
    "### Любуемся результатом"
   ]
  },
  {
   "cell_type": "code",
   "execution_count": 10,
   "metadata": {},
   "outputs": [
    {
     "data": {
      "text/html": [
       "<div>\n",
       "<style scoped>\n",
       "    .dataframe tbody tr th:only-of-type {\n",
       "        vertical-align: middle;\n",
       "    }\n",
       "\n",
       "    .dataframe tbody tr th {\n",
       "        vertical-align: top;\n",
       "    }\n",
       "\n",
       "    .dataframe thead th {\n",
       "        text-align: right;\n",
       "    }\n",
       "</style>\n",
       "<table border=\"1\" class=\"dataframe\">\n",
       "  <thead>\n",
       "    <tr style=\"text-align: right;\">\n",
       "      <th></th>\n",
       "      <th>code</th>\n",
       "      <th>len</th>\n",
       "      <th>begin</th>\n",
       "      <th>end</th>\n",
       "    </tr>\n",
       "  </thead>\n",
       "  <tbody>\n",
       "    <tr>\n",
       "      <th>--</th>\n",
       "      <td>0</td>\n",
       "      <td>5000</td>\n",
       "      <td>0</td>\n",
       "      <td>5000</td>\n",
       "    </tr>\n",
       "    <tr>\n",
       "      <th>F18-24</th>\n",
       "      <td>1</td>\n",
       "      <td>2886</td>\n",
       "      <td>5000</td>\n",
       "      <td>7886</td>\n",
       "    </tr>\n",
       "    <tr>\n",
       "      <th>F25-34</th>\n",
       "      <td>2</td>\n",
       "      <td>6791</td>\n",
       "      <td>7886</td>\n",
       "      <td>14677</td>\n",
       "    </tr>\n",
       "    <tr>\n",
       "      <th>F35-44</th>\n",
       "      <td>3</td>\n",
       "      <td>4271</td>\n",
       "      <td>14677</td>\n",
       "      <td>18948</td>\n",
       "    </tr>\n",
       "    <tr>\n",
       "      <th>F45-54</th>\n",
       "      <td>4</td>\n",
       "      <td>2597</td>\n",
       "      <td>18948</td>\n",
       "      <td>21545</td>\n",
       "    </tr>\n",
       "    <tr>\n",
       "      <th>F&gt;=55</th>\n",
       "      <td>5</td>\n",
       "      <td>895</td>\n",
       "      <td>21545</td>\n",
       "      <td>22440</td>\n",
       "    </tr>\n",
       "    <tr>\n",
       "      <th>M18-24</th>\n",
       "      <td>6</td>\n",
       "      <td>2012</td>\n",
       "      <td>22440</td>\n",
       "      <td>24452</td>\n",
       "    </tr>\n",
       "    <tr>\n",
       "      <th>M25-34</th>\n",
       "      <td>7</td>\n",
       "      <td>8666</td>\n",
       "      <td>24452</td>\n",
       "      <td>33118</td>\n",
       "    </tr>\n",
       "    <tr>\n",
       "      <th>M35-44</th>\n",
       "      <td>8</td>\n",
       "      <td>5089</td>\n",
       "      <td>33118</td>\n",
       "      <td>38207</td>\n",
       "    </tr>\n",
       "    <tr>\n",
       "      <th>M45-54</th>\n",
       "      <td>9</td>\n",
       "      <td>2147</td>\n",
       "      <td>38207</td>\n",
       "      <td>40354</td>\n",
       "    </tr>\n",
       "    <tr>\n",
       "      <th>M&gt;=55</th>\n",
       "      <td>10</td>\n",
       "      <td>784</td>\n",
       "      <td>40354</td>\n",
       "      <td>41138</td>\n",
       "    </tr>\n",
       "  </tbody>\n",
       "</table>\n",
       "</div>"
      ],
      "text/plain": [
       "        code   len  begin    end\n",
       "--         0  5000      0   5000\n",
       "F18-24     1  2886   5000   7886\n",
       "F25-34     2  6791   7886  14677\n",
       "F35-44     3  4271  14677  18948\n",
       "F45-54     4  2597  18948  21545\n",
       "F>=55      5   895  21545  22440\n",
       "M18-24     6  2012  22440  24452\n",
       "M25-34     7  8666  24452  33118\n",
       "M35-44     8  5089  33118  38207\n",
       "M45-54     9  2147  38207  40354\n",
       "M>=55     10   784  40354  41138"
      ]
     },
     "execution_count": 10,
     "metadata": {},
     "output_type": "execute_result"
    }
   ],
   "source": [
    "theTargetMap"
   ]
  },
  {
   "cell_type": "code",
   "execution_count": 11,
   "metadata": {},
   "outputs": [
    {
     "name": "stdout",
     "output_type": "stream",
     "text": [
      "<class 'pandas.core.frame.DataFrame'>\n",
      "Index: 41138 entries, 0000e7ca-32e6-4bef-bdca-e21c025071ff to 0d32fbfe-c241-4ac0-9d60-1fb9f4e2dea3\n",
      "Data columns (total 2 columns):\n",
      "subject     41138 non-null object\n",
      "targetID    41138 non-null int64\n",
      "dtypes: int64(1), object(1)\n",
      "memory usage: 964.2+ KB\n"
     ]
    }
   ],
   "source": [
    "theUserCorpus.info()"
   ]
  },
  {
   "cell_type": "code",
   "execution_count": 12,
   "metadata": {},
   "outputs": [
    {
     "data": {
      "text/html": [
       "<div>\n",
       "<style scoped>\n",
       "    .dataframe tbody tr th:only-of-type {\n",
       "        vertical-align: middle;\n",
       "    }\n",
       "\n",
       "    .dataframe tbody tr th {\n",
       "        vertical-align: top;\n",
       "    }\n",
       "\n",
       "    .dataframe thead th {\n",
       "        text-align: right;\n",
       "    }\n",
       "</style>\n",
       "<table border=\"1\" class=\"dataframe\">\n",
       "  <thead>\n",
       "    <tr style=\"text-align: right;\">\n",
       "      <th></th>\n",
       "      <th>subject</th>\n",
       "      <th>targetID</th>\n",
       "    </tr>\n",
       "    <tr>\n",
       "      <th>uid</th>\n",
       "      <th></th>\n",
       "      <th></th>\n",
       "    </tr>\n",
       "  </thead>\n",
       "  <tbody>\n",
       "    <tr>\n",
       "      <th>0000e7ca-32e6-4bef-bdca-e21c025071ff</th>\n",
       "      <td>прочее прочее прочее прочее прочее прочее пту ...</td>\n",
       "      <td>0</td>\n",
       "    </tr>\n",
       "    <tr>\n",
       "      <th>50506a7f-f9e5-48d5-9590-9667f4d6ee9c</th>\n",
       "      <td>торговля прочее здоровье красота здоровье крас...</td>\n",
       "      <td>0</td>\n",
       "    </tr>\n",
       "    <tr>\n",
       "      <th>505240e6-f540-4154-a35b-dcdbaf354dc4</th>\n",
       "      <td>новости и сми бизнес новости и сми бизнес ново...</td>\n",
       "      <td>0</td>\n",
       "    </tr>\n",
       "    <tr>\n",
       "      <th>50528c7d-805f-4f73-9625-20ba0f9ce3b3</th>\n",
       "      <td>прочее прочее прочее прочее прочее прочее проч...</td>\n",
       "      <td>0</td>\n",
       "    </tr>\n",
       "    <tr>\n",
       "      <th>5053e3ad-47e0-47e5-97b4-1e62c7c603d6</th>\n",
       "      <td>прочее прочее</td>\n",
       "      <td>0</td>\n",
       "    </tr>\n",
       "  </tbody>\n",
       "</table>\n",
       "</div>"
      ],
      "text/plain": [
       "                                                                                subject  \\\n",
       "uid                                                                                       \n",
       "0000e7ca-32e6-4bef-bdca-e21c025071ff  прочее прочее прочее прочее прочее прочее пту ...   \n",
       "50506a7f-f9e5-48d5-9590-9667f4d6ee9c  торговля прочее здоровье красота здоровье крас...   \n",
       "505240e6-f540-4154-a35b-dcdbaf354dc4  новости и сми бизнес новости и сми бизнес ново...   \n",
       "50528c7d-805f-4f73-9625-20ba0f9ce3b3  прочее прочее прочее прочее прочее прочее проч...   \n",
       "5053e3ad-47e0-47e5-97b4-1e62c7c603d6                                      прочее прочее   \n",
       "\n",
       "                                      targetID  \n",
       "uid                                             \n",
       "0000e7ca-32e6-4bef-bdca-e21c025071ff         0  \n",
       "50506a7f-f9e5-48d5-9590-9667f4d6ee9c         0  \n",
       "505240e6-f540-4154-a35b-dcdbaf354dc4         0  \n",
       "50528c7d-805f-4f73-9625-20ba0f9ce3b3         0  \n",
       "5053e3ad-47e0-47e5-97b4-1e62c7c603d6         0  "
      ]
     },
     "execution_count": 12,
     "metadata": {},
     "output_type": "execute_result"
    }
   ],
   "source": [
    "theUserCorpus.head()"
   ]
  },
  {
   "cell_type": "markdown",
   "metadata": {},
   "source": [
    "### Запихиваем данные в мешок"
   ]
  },
  {
   "cell_type": "code",
   "execution_count": 126,
   "metadata": {},
   "outputs": [
    {
     "name": "stdout",
     "output_type": "stream",
     "text": [
      "Size of theCorpus is  41138\n"
     ]
    }
   ],
   "source": [
    "#Собираем корпус\n",
    "theCorpus = list(theUserCorpus['subject'])\n",
    "print ('Size of theCorpus is ', len(theCorpus) )"
   ]
  },
  {
   "cell_type": "code",
   "execution_count": 153,
   "metadata": {},
   "outputs": [
    {
     "name": "stdout",
     "output_type": "stream",
     "text": [
      "CPU times: user 1min 55s, sys: 8 ms, total: 1min 55s\n",
      "Wall time: 2min 7s\n"
     ]
    }
   ],
   "source": [
    "%%time\n",
    "from nltk.tokenize import word_tokenize\n",
    "from sklearn.feature_extraction.text import CountVectorizer\n",
    "\n",
    "#Процедура токенизации\n",
    "def tokenise( text ):\n",
    "    words = [word.lower() for word in word_tokenize(text)]\n",
    "    return words\n",
    "\n",
    "#stopsWords = ['неизвестный']\n",
    "#Обучаем векторизатор и генерируем Bag of Words\n",
    "theVectorizer = CountVectorizer(tokenizer=tokenise) #, stop_words= stopsWords\n",
    "theBagOfWords = theVectorizer.fit_transform(theCorpus).toarray()"
   ]
  },
  {
   "cell_type": "code",
   "execution_count": 154,
   "metadata": {},
   "outputs": [
    {
     "data": {
      "text/plain": [
       "'\\nfrom sklearn.feature_extraction.text import TfidfVectorizer\\n# Создать матрицу признаков на основе меры tf-idf\\ntfidf = TfidfVectorizer(use_idf=False)\\ntheBagOfWords = tfidf.fit_transform( theCorpus )\\ntheBagOfWords.shape\\n'"
      ]
     },
     "execution_count": 154,
     "metadata": {},
     "output_type": "execute_result"
    }
   ],
   "source": [
    "\"\"\"\n",
    "from sklearn.feature_extraction.text import TfidfVectorizer\n",
    "# Создать матрицу признаков на основе меры tf-idf\n",
    "tfidf = TfidfVectorizer(use_idf=False)\n",
    "theBagOfWords = tfidf.fit_transform( theCorpus )\n",
    "theBagOfWords.shape\n",
    "\"\"\""
   ]
  },
  {
   "cell_type": "code",
   "execution_count": 156,
   "metadata": {},
   "outputs": [
    {
     "data": {
      "text/plain": [
       "(41138, 18)"
      ]
     },
     "execution_count": 156,
     "metadata": {},
     "output_type": "execute_result"
    }
   ],
   "source": [
    "theBagOfWords = np.delete(theBagOfWords, [1, 2, 4, 5, 6, 9, 10, 11, 12, 13, 14, 15, 16, 17, 18, 19, 23, 24, 25, 26, 27, 28, 29,\n",
    "                                          30, 31, 32, 33, 34, 35, 36, 38, 41, 42, 44, 45, 47, 48, 49,\n",
    "                                         51, 52, 53, 54, 55, 56, 58, 59, 60, 62, 63, 64, 65, 66, 67, 68, 69, \n",
    "                                         71, 73, 75, 76, 77], axis=1)\n",
    "#theBagOfWords = np.delete(theBagOfWords, [45, 47, 51], axis=1)\n",
    "\n",
    "#theBagOfWords = np.delete(theBagOfWords, [8, 13, 16, 17, 27, 28, 30, 36, 38, 40, 42, 45, 46, 51, 52, 56, 57, 62, 63, 64, 65, 67, 69, 75], axis=1)\n",
    "\n",
    "theBagOfWords.shape"
   ]
  },
  {
   "cell_type": "markdown",
   "metadata": {},
   "source": [
    "### Выделяем диапазон для исследований"
   ]
  },
  {
   "cell_type": "code",
   "execution_count": 157,
   "metadata": {},
   "outputs": [
    {
     "data": {
      "text/plain": [
       "((36138, 18), (36138,))"
      ]
     },
     "execution_count": 157,
     "metadata": {},
     "output_type": "execute_result"
    }
   ],
   "source": [
    "partSize = 41138\n",
    "fullData = theBagOfWords[5000:41138]\n",
    "fullTarget = (theUserCorpus['targetID'].values)[5000:41138]\n",
    "fullData.shape, fullTarget.shape "
   ]
  },
  {
   "cell_type": "markdown",
   "metadata": {},
   "source": [
    "### Загоняем в xgboost"
   ]
  },
  {
   "cell_type": "code",
   "execution_count": 158,
   "metadata": {},
   "outputs": [
    {
     "name": "stdout",
     "output_type": "stream",
     "text": [
      "CPU times: user 36 ms, sys: 0 ns, total: 36 ms\n",
      "Wall time: 48.6 ms\n"
     ]
    }
   ],
   "source": [
    "%%time\n",
    "from sklearn.model_selection import train_test_split\n",
    "#Делим мастер данные на массивы\n",
    "masterData, researchmentData, masterTarget, researchmentTarget = \\\n",
    "    train_test_split(fullData, fullTarget, test_size= 0.33, random_state=33 )"
   ]
  },
  {
   "cell_type": "code",
   "execution_count": 159,
   "metadata": {},
   "outputs": [
    {
     "name": "stdout",
     "output_type": "stream",
     "text": [
      "CPU times: user 11min 24s, sys: 1min 44s, total: 13min 8s\n",
      "Wall time: 55.6 s\n"
     ]
    }
   ],
   "source": [
    "%%time\n",
    "import xgboost\n",
    "\n",
    "# У кого xgboost длиннее тот и прав\n",
    "model = xgboost.XGBRegressor(n_estimators = 200, nthread= -1, max_depth = 6, objective = 'multi:softmax', num_class = 11 ) #\n",
    "history = model.fit(masterData, masterTarget)"
   ]
  },
  {
   "cell_type": "code",
   "execution_count": 160,
   "metadata": {},
   "outputs": [
    {
     "data": {
      "text/plain": [
       "(18, array([0.02312053, 0.03164819, 0.02946669, 0.05771042, 0.03920078,\n",
       "        0.04148143, 0.09881175, 0.06579187, 0.03417673, 0.01725363,\n",
       "        0.07025401, 0.09639888, 0.16470277, 0.04110133, 0.0400271 ,\n",
       "        0.04126659, 0.07501364, 0.03257367], dtype=float32))"
      ]
     },
     "execution_count": 160,
     "metadata": {},
     "output_type": "execute_result"
    }
   ],
   "source": [
    "len(model.feature_importances_), model.feature_importances_"
   ]
  },
  {
   "cell_type": "code",
   "execution_count": 161,
   "metadata": {},
   "outputs": [
    {
     "data": {
      "image/png": "[encoded data removed]",
      "text/plain": [
       "<Figure size 432x288 with 1 Axes>"
      ]
     },
     "metadata": {},
     "output_type": "display_data"
    }
   ],
   "source": [
    "from sklearn.model_selection import train_test_split\n",
    "from sklearn.metrics import accuracy_score\n",
    "import matplotlib.pylab as plt\n",
    "from matplotlib import pyplot\n",
    "from xgboost import plot_importance\n",
    "\n",
    "plot_importance(model, max_num_features=18) # top 10 most important features\n",
    "plt.show()"
   ]
  },
  {
   "cell_type": "code",
   "execution_count": 162,
   "metadata": {},
   "outputs": [
    {
     "name": "stdout",
     "output_type": "stream",
     "text": [
      "Score: -26.19%\n",
      "Accuracy: 25.93%\n"
     ]
    }
   ],
   "source": [
    "#\n",
    "from sklearn.metrics import accuracy_score\n",
    "researchmentLabel = model.predict(researchmentData)\n",
    "researchmentPredict = model.predict(theBagOfWords[:5000])\n",
    "#researchmentProbability = model.predict_proba(theBagOfWords[:5000])\n",
    "\n",
    "print(\"Score: %.2f%%\" % (model.score(masterData, masterTarget) * 100.0) )\n",
    "print(\"Accuracy: %.2f%%\" % (accuracy_score(researchmentTarget, researchmentLabel) * 100.0) )"
   ]
  },
  {
   "cell_type": "code",
   "execution_count": 163,
   "metadata": {
    "scrolled": true
   },
   "outputs": [
    {
     "name": "stdout",
     "output_type": "stream",
     "text": [
      "              precision    recall  f1-score   support\n",
      "\n",
      "      F18-24       0.18      0.02      0.04       986\n",
      "      F25-34       0.23      0.54      0.32      2195\n",
      "      F35-44       0.24      0.08      0.12      1408\n",
      "      F45-54       0.11      0.02      0.03       797\n",
      "       F>=55       0.00      0.00      0.00       305\n",
      "      M18-24       0.04      0.00      0.00       663\n",
      "      M25-34       0.30      0.53      0.39      2897\n",
      "      M35-44       0.25      0.13      0.17      1699\n",
      "      M45-54       0.12      0.02      0.03       707\n",
      "       M>=55       0.18      0.01      0.01       269\n",
      "\n",
      "    accuracy                           0.26     11926\n",
      "   macro avg       0.16      0.13      0.11     11926\n",
      "weighted avg       0.21      0.26      0.20     11926\n",
      "\n"
     ]
    }
   ],
   "source": [
    "from sklearn.metrics import classification_report\n",
    "report = classification_report(researchmentTarget, researchmentLabel, target_names=list(theTargetMap.index[1:])) #['...', '...']\n",
    "print(report)"
   ]
  },
  {
   "cell_type": "code",
   "execution_count": 164,
   "metadata": {},
   "outputs": [
    {
     "data": {
      "text/plain": [
       "array([2., 2., 7., ..., 2., 2., 2.], dtype=float32)"
      ]
     },
     "execution_count": 164,
     "metadata": {},
     "output_type": "execute_result"
    }
   ],
   "source": [
    "researchmentPredict"
   ]
  },
  {
   "cell_type": "code",
   "execution_count": null,
   "metadata": {},
   "outputs": [],
   "source": []
  }
 ],
 "metadata": {
  "kernelspec": {
   "display_name": "Python 3",
   "language": "python",
   "name": "python3"
  },
  "language_info": {
   "codemirror_mode": {
    "name": "ipython",
    "version": 3
   },
   "file_extension": ".py",
   "mimetype": "text/x-python",
   "name": "python",
   "nbconvert_exporter": "python",
   "pygments_lexer": "ipython3",
   "version": "3.6.5"
  },
  "toc": {
   "base_numbering": 1,
   "nav_menu": {},
   "number_sections": true,
   "sideBar": true,
   "skip_h1_title": false,
   "title_cell": "Table of Contents",
   "title_sidebar": "Contents",
   "toc_cell": false,
   "toc_position": {},
   "toc_section_display": true,
   "toc_window_display": false
  }
 },
 "nbformat": 4,
 "nbformat_minor": 2
}
